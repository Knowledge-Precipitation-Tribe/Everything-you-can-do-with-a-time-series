{
 "cells": [
  {
   "cell_type": "markdown",
   "metadata": {},
   "source": [
    "# Everything-you-can-do-with-a-time-series\n",
    "原项目地址：[https://www.kaggle.com/thebrownviking20/everything-you-can-do-with-a-time-series/notebook](https://www.kaggle.com/thebrownviking20/everything-you-can-do-with-a-time-series/notebook)\n",
    "\n",
    "\n",
    "\n",
    "# content\n",
    "\n",
    "\n",
    "\n",
    "# [日期和时间简介](#content)\n",
    "\n",
    "\n",
    "## [导入时间序列数据](#content)\n",
    "\n",
    "### [如何导入数据](#content)\n",
    "所需要的数据在data目录下。使用parse_dates参数将所需的时间序列列导入为datetime列，并使用index_col参数将其选择为数据帧的索引。\n",
    "\n",
    "### [使用的数据](#content)\n",
    "- Google Stocks Data\n",
    "- Humidity in different world cities\n",
    "- Microsoft Stocks Data\n",
    "- Pressure in different world cities\n",
    "\n",
    "### [导入资源](#content)"
   ]
  },
  {
   "cell_type": "code",
   "execution_count": 1,
   "metadata": {},
   "outputs": [],
   "source": [
    "import os\n",
    "import warnings\n",
    "warnings.filterwarnings('ignore')\n",
    "import numpy as np \n",
    "import pandas as pd\n",
    "import matplotlib.pyplot as plt\n",
    "plt.style.use('fivethirtyeight') \n",
    "# Above is a special style template for matplotlib, highly useful for visualizing time series data\n",
    "%matplotlib inline\n",
    "from pylab import rcParams\n",
    "# from plotly import tools\n",
    "# import chart_studio.plotly as py\n",
    "# from plotly.offline import init_notebook_mode, iplot\n",
    "# init_notebook_mode(connected=True)\n",
    "# import plotly.graph_objs as go\n",
    "# import plotly.figure_factory as ff\n",
    "import statsmodels.api as sm\n",
    "from numpy.random import normal, seed\n",
    "from scipy.stats import norm\n",
    "from statsmodels.tsa.arima_model import ARMA\n",
    "from statsmodels.tsa.stattools import adfuller\n",
    "from statsmodels.graphics.tsaplots import plot_acf, plot_pacf\n",
    "from statsmodels.tsa.arima_process import ArmaProcess\n",
    "from statsmodels.tsa.arima_model import ARIMA\n",
    "import math\n",
    "from sklearn.metrics import mean_squared_error"
   ]
  },
  {
   "cell_type": "code",
   "execution_count": 2,
   "metadata": {},
   "outputs": [
    {
     "data": {
      "text/html": [
       "<div>\n",
       "<style scoped>\n",
       "    .dataframe tbody tr th:only-of-type {\n",
       "        vertical-align: middle;\n",
       "    }\n",
       "\n",
       "    .dataframe tbody tr th {\n",
       "        vertical-align: top;\n",
       "    }\n",
       "\n",
       "    .dataframe thead th {\n",
       "        text-align: right;\n",
       "    }\n",
       "</style>\n",
       "<table border=\"1\" class=\"dataframe\">\n",
       "  <thead>\n",
       "    <tr style=\"text-align: right;\">\n",
       "      <th></th>\n",
       "      <th>Open</th>\n",
       "      <th>High</th>\n",
       "      <th>Low</th>\n",
       "      <th>Close</th>\n",
       "      <th>Volume</th>\n",
       "      <th>Name</th>\n",
       "    </tr>\n",
       "    <tr>\n",
       "      <th>Date</th>\n",
       "      <th></th>\n",
       "      <th></th>\n",
       "      <th></th>\n",
       "      <th></th>\n",
       "      <th></th>\n",
       "      <th></th>\n",
       "    </tr>\n",
       "  </thead>\n",
       "  <tbody>\n",
       "    <tr>\n",
       "      <th>2006-01-03</th>\n",
       "      <td>211.47</td>\n",
       "      <td>218.05</td>\n",
       "      <td>209.32</td>\n",
       "      <td>217.83</td>\n",
       "      <td>13137450</td>\n",
       "      <td>GOOGL</td>\n",
       "    </tr>\n",
       "    <tr>\n",
       "      <th>2006-01-04</th>\n",
       "      <td>222.17</td>\n",
       "      <td>224.70</td>\n",
       "      <td>220.09</td>\n",
       "      <td>222.84</td>\n",
       "      <td>15292353</td>\n",
       "      <td>GOOGL</td>\n",
       "    </tr>\n",
       "    <tr>\n",
       "      <th>2006-01-05</th>\n",
       "      <td>223.22</td>\n",
       "      <td>226.00</td>\n",
       "      <td>220.97</td>\n",
       "      <td>225.85</td>\n",
       "      <td>10815661</td>\n",
       "      <td>GOOGL</td>\n",
       "    </tr>\n",
       "    <tr>\n",
       "      <th>2006-01-06</th>\n",
       "      <td>228.66</td>\n",
       "      <td>235.49</td>\n",
       "      <td>226.85</td>\n",
       "      <td>233.06</td>\n",
       "      <td>17759521</td>\n",
       "      <td>GOOGL</td>\n",
       "    </tr>\n",
       "    <tr>\n",
       "      <th>2006-01-09</th>\n",
       "      <td>233.44</td>\n",
       "      <td>236.94</td>\n",
       "      <td>230.70</td>\n",
       "      <td>233.68</td>\n",
       "      <td>12795837</td>\n",
       "      <td>GOOGL</td>\n",
       "    </tr>\n",
       "  </tbody>\n",
       "</table>\n",
       "</div>"
      ],
      "text/plain": [
       "              Open    High     Low   Close    Volume   Name\n",
       "Date                                                       \n",
       "2006-01-03  211.47  218.05  209.32  217.83  13137450  GOOGL\n",
       "2006-01-04  222.17  224.70  220.09  222.84  15292353  GOOGL\n",
       "2006-01-05  223.22  226.00  220.97  225.85  10815661  GOOGL\n",
       "2006-01-06  228.66  235.49  226.85  233.06  17759521  GOOGL\n",
       "2006-01-09  233.44  236.94  230.70  233.68  12795837  GOOGL"
      ]
     },
     "execution_count": 2,
     "metadata": {},
     "output_type": "execute_result"
    }
   ],
   "source": [
    "google = pd.read_csv('./data/GOOGL_2006-01-01_to_2018-01-01.csv', index_col='Date', parse_dates=['Date'])\n",
    "google.head()"
   ]
  },
  {
   "cell_type": "code",
   "execution_count": 3,
   "metadata": {},
   "outputs": [
    {
     "data": {
      "text/html": [
       "<div>\n",
       "<style scoped>\n",
       "    .dataframe tbody tr th:only-of-type {\n",
       "        vertical-align: middle;\n",
       "    }\n",
       "\n",
       "    .dataframe tbody tr th {\n",
       "        vertical-align: top;\n",
       "    }\n",
       "\n",
       "    .dataframe thead th {\n",
       "        text-align: right;\n",
       "    }\n",
       "</style>\n",
       "<table border=\"1\" class=\"dataframe\">\n",
       "  <thead>\n",
       "    <tr style=\"text-align: right;\">\n",
       "      <th></th>\n",
       "      <th>Vancouver</th>\n",
       "      <th>Portland</th>\n",
       "      <th>San Francisco</th>\n",
       "      <th>Seattle</th>\n",
       "      <th>Los Angeles</th>\n",
       "      <th>San Diego</th>\n",
       "      <th>Las Vegas</th>\n",
       "      <th>Phoenix</th>\n",
       "      <th>Albuquerque</th>\n",
       "      <th>Denver</th>\n",
       "      <th>...</th>\n",
       "      <th>Philadelphia</th>\n",
       "      <th>New York</th>\n",
       "      <th>Montreal</th>\n",
       "      <th>Boston</th>\n",
       "      <th>Beersheba</th>\n",
       "      <th>Tel Aviv District</th>\n",
       "      <th>Eilat</th>\n",
       "      <th>Haifa</th>\n",
       "      <th>Nahariyya</th>\n",
       "      <th>Jerusalem</th>\n",
       "    </tr>\n",
       "    <tr>\n",
       "      <th>datetime</th>\n",
       "      <th></th>\n",
       "      <th></th>\n",
       "      <th></th>\n",
       "      <th></th>\n",
       "      <th></th>\n",
       "      <th></th>\n",
       "      <th></th>\n",
       "      <th></th>\n",
       "      <th></th>\n",
       "      <th></th>\n",
       "      <th></th>\n",
       "      <th></th>\n",
       "      <th></th>\n",
       "      <th></th>\n",
       "      <th></th>\n",
       "      <th></th>\n",
       "      <th></th>\n",
       "      <th></th>\n",
       "      <th></th>\n",
       "      <th></th>\n",
       "      <th></th>\n",
       "    </tr>\n",
       "  </thead>\n",
       "  <tbody>\n",
       "    <tr>\n",
       "      <th>2012-10-01 12:00:00</th>\n",
       "      <td>NaN</td>\n",
       "      <td>NaN</td>\n",
       "      <td>NaN</td>\n",
       "      <td>NaN</td>\n",
       "      <td>NaN</td>\n",
       "      <td>NaN</td>\n",
       "      <td>NaN</td>\n",
       "      <td>NaN</td>\n",
       "      <td>NaN</td>\n",
       "      <td>NaN</td>\n",
       "      <td>...</td>\n",
       "      <td>NaN</td>\n",
       "      <td>NaN</td>\n",
       "      <td>NaN</td>\n",
       "      <td>NaN</td>\n",
       "      <td>NaN</td>\n",
       "      <td>NaN</td>\n",
       "      <td>25.0</td>\n",
       "      <td>NaN</td>\n",
       "      <td>NaN</td>\n",
       "      <td>NaN</td>\n",
       "    </tr>\n",
       "    <tr>\n",
       "      <th>2012-10-01 13:00:00</th>\n",
       "      <td>76.0</td>\n",
       "      <td>81.0</td>\n",
       "      <td>88.0</td>\n",
       "      <td>81.0</td>\n",
       "      <td>88.0</td>\n",
       "      <td>82.0</td>\n",
       "      <td>22.0</td>\n",
       "      <td>23.0</td>\n",
       "      <td>50.0</td>\n",
       "      <td>62.0</td>\n",
       "      <td>...</td>\n",
       "      <td>71.0</td>\n",
       "      <td>58.0</td>\n",
       "      <td>93.0</td>\n",
       "      <td>68.0</td>\n",
       "      <td>50.0</td>\n",
       "      <td>63.0</td>\n",
       "      <td>22.0</td>\n",
       "      <td>51.0</td>\n",
       "      <td>51.0</td>\n",
       "      <td>50.0</td>\n",
       "    </tr>\n",
       "    <tr>\n",
       "      <th>2012-10-01 14:00:00</th>\n",
       "      <td>76.0</td>\n",
       "      <td>80.0</td>\n",
       "      <td>87.0</td>\n",
       "      <td>80.0</td>\n",
       "      <td>88.0</td>\n",
       "      <td>81.0</td>\n",
       "      <td>21.0</td>\n",
       "      <td>23.0</td>\n",
       "      <td>49.0</td>\n",
       "      <td>62.0</td>\n",
       "      <td>...</td>\n",
       "      <td>70.0</td>\n",
       "      <td>57.0</td>\n",
       "      <td>91.0</td>\n",
       "      <td>68.0</td>\n",
       "      <td>51.0</td>\n",
       "      <td>62.0</td>\n",
       "      <td>22.0</td>\n",
       "      <td>51.0</td>\n",
       "      <td>51.0</td>\n",
       "      <td>50.0</td>\n",
       "    </tr>\n",
       "    <tr>\n",
       "      <th>2012-10-01 15:00:00</th>\n",
       "      <td>76.0</td>\n",
       "      <td>80.0</td>\n",
       "      <td>86.0</td>\n",
       "      <td>80.0</td>\n",
       "      <td>88.0</td>\n",
       "      <td>81.0</td>\n",
       "      <td>21.0</td>\n",
       "      <td>23.0</td>\n",
       "      <td>49.0</td>\n",
       "      <td>62.0</td>\n",
       "      <td>...</td>\n",
       "      <td>70.0</td>\n",
       "      <td>57.0</td>\n",
       "      <td>87.0</td>\n",
       "      <td>68.0</td>\n",
       "      <td>51.0</td>\n",
       "      <td>62.0</td>\n",
       "      <td>22.0</td>\n",
       "      <td>51.0</td>\n",
       "      <td>51.0</td>\n",
       "      <td>50.0</td>\n",
       "    </tr>\n",
       "    <tr>\n",
       "      <th>2012-10-01 16:00:00</th>\n",
       "      <td>77.0</td>\n",
       "      <td>80.0</td>\n",
       "      <td>85.0</td>\n",
       "      <td>79.0</td>\n",
       "      <td>88.0</td>\n",
       "      <td>81.0</td>\n",
       "      <td>21.0</td>\n",
       "      <td>23.0</td>\n",
       "      <td>49.0</td>\n",
       "      <td>62.0</td>\n",
       "      <td>...</td>\n",
       "      <td>69.0</td>\n",
       "      <td>57.0</td>\n",
       "      <td>84.0</td>\n",
       "      <td>68.0</td>\n",
       "      <td>52.0</td>\n",
       "      <td>62.0</td>\n",
       "      <td>22.0</td>\n",
       "      <td>51.0</td>\n",
       "      <td>51.0</td>\n",
       "      <td>50.0</td>\n",
       "    </tr>\n",
       "  </tbody>\n",
       "</table>\n",
       "<p>5 rows × 36 columns</p>\n",
       "</div>"
      ],
      "text/plain": [
       "                     Vancouver  Portland  San Francisco  Seattle  Los Angeles  \\\n",
       "datetime                                                                        \n",
       "2012-10-01 12:00:00        NaN       NaN            NaN      NaN          NaN   \n",
       "2012-10-01 13:00:00       76.0      81.0           88.0     81.0         88.0   \n",
       "2012-10-01 14:00:00       76.0      80.0           87.0     80.0         88.0   \n",
       "2012-10-01 15:00:00       76.0      80.0           86.0     80.0         88.0   \n",
       "2012-10-01 16:00:00       77.0      80.0           85.0     79.0         88.0   \n",
       "\n",
       "                     San Diego  Las Vegas  Phoenix  Albuquerque  Denver  ...  \\\n",
       "datetime                                                                 ...   \n",
       "2012-10-01 12:00:00        NaN        NaN      NaN          NaN     NaN  ...   \n",
       "2012-10-01 13:00:00       82.0       22.0     23.0         50.0    62.0  ...   \n",
       "2012-10-01 14:00:00       81.0       21.0     23.0         49.0    62.0  ...   \n",
       "2012-10-01 15:00:00       81.0       21.0     23.0         49.0    62.0  ...   \n",
       "2012-10-01 16:00:00       81.0       21.0     23.0         49.0    62.0  ...   \n",
       "\n",
       "                     Philadelphia  New York  Montreal  Boston  Beersheba  \\\n",
       "datetime                                                                   \n",
       "2012-10-01 12:00:00           NaN       NaN       NaN     NaN        NaN   \n",
       "2012-10-01 13:00:00          71.0      58.0      93.0    68.0       50.0   \n",
       "2012-10-01 14:00:00          70.0      57.0      91.0    68.0       51.0   \n",
       "2012-10-01 15:00:00          70.0      57.0      87.0    68.0       51.0   \n",
       "2012-10-01 16:00:00          69.0      57.0      84.0    68.0       52.0   \n",
       "\n",
       "                     Tel Aviv District  Eilat  Haifa  Nahariyya  Jerusalem  \n",
       "datetime                                                                    \n",
       "2012-10-01 12:00:00                NaN   25.0    NaN        NaN        NaN  \n",
       "2012-10-01 13:00:00               63.0   22.0   51.0       51.0       50.0  \n",
       "2012-10-01 14:00:00               62.0   22.0   51.0       51.0       50.0  \n",
       "2012-10-01 15:00:00               62.0   22.0   51.0       51.0       50.0  \n",
       "2012-10-01 16:00:00               62.0   22.0   51.0       51.0       50.0  \n",
       "\n",
       "[5 rows x 36 columns]"
      ]
     },
     "execution_count": 3,
     "metadata": {},
     "output_type": "execute_result"
    }
   ],
   "source": [
    "humidity = pd.read_csv('./data/humidity.csv', index_col='datetime', parse_dates=['datetime'])\n",
    "humidity.head()"
   ]
  },
  {
   "cell_type": "markdown",
   "metadata": {},
   "source": [
    "## [数据清洗与准备](#content)"
   ]
  },
  {
   "cell_type": "code",
   "execution_count": 4,
   "metadata": {},
   "outputs": [
    {
     "data": {
      "text/plain": [
       "Open      0\n",
       "High      0\n",
       "Low       0\n",
       "Close     0\n",
       "Volume    0\n",
       "Name      0\n",
       "dtype: int64"
      ]
     },
     "execution_count": 4,
     "metadata": {},
     "output_type": "execute_result"
    }
   ],
   "source": [
    "google.isnull().sum()"
   ]
  },
  {
   "cell_type": "code",
   "execution_count": 5,
   "metadata": {},
   "outputs": [
    {
     "data": {
      "text/plain": [
       "Vancouver            1826\n",
       "Portland              449\n",
       "San Francisco         942\n",
       "Seattle               289\n",
       "Los Angeles           152\n",
       "San Diego             344\n",
       "Las Vegas             842\n",
       "Phoenix              1308\n",
       "Albuquerque           710\n",
       "Denver               1808\n",
       "San Antonio           564\n",
       "Dallas                319\n",
       "Houston               121\n",
       "Kansas City           512\n",
       "Minneapolis           510\n",
       "Saint Louis          1289\n",
       "Chicago              1109\n",
       "Nashville             567\n",
       "Indianapolis          695\n",
       "Atlanta               422\n",
       "Detroit               862\n",
       "Jacksonville          209\n",
       "Charlotte             589\n",
       "Miami                1087\n",
       "Pittsburgh            522\n",
       "Toronto               728\n",
       "Philadelphia          624\n",
       "New York             1624\n",
       "Montreal             1696\n",
       "Boston                449\n",
       "Beersheba             859\n",
       "Tel Aviv District    1113\n",
       "Eilat                 970\n",
       "Haifa                 818\n",
       "Nahariyya             817\n",
       "Jerusalem             906\n",
       "dtype: int64"
      ]
     },
     "execution_count": 5,
     "metadata": {},
     "output_type": "execute_result"
    }
   ],
   "source": [
    "humidity.isnull().sum()"
   ]
  },
  {
   "cell_type": "code",
   "execution_count": 6,
   "metadata": {},
   "outputs": [
    {
     "data": {
      "text/plain": [
       "(45253, 36)"
      ]
     },
     "execution_count": 6,
     "metadata": {},
     "output_type": "execute_result"
    }
   ],
   "source": [
    "humidity.shape"
   ]
  },
  {
   "cell_type": "markdown",
   "metadata": {},
   "source": [
    "Google股票数据没有缺失值，但是湿度数据确实有缺失值。 使用带有ffill参数的fillna()对其进行清理，该方法传播最后的有效观察值以填补空白。"
   ]
  },
  {
   "cell_type": "code",
   "execution_count": 7,
   "metadata": {},
   "outputs": [
    {
     "data": {
      "text/html": [
       "<div>\n",
       "<style scoped>\n",
       "    .dataframe tbody tr th:only-of-type {\n",
       "        vertical-align: middle;\n",
       "    }\n",
       "\n",
       "    .dataframe tbody tr th {\n",
       "        vertical-align: top;\n",
       "    }\n",
       "\n",
       "    .dataframe thead th {\n",
       "        text-align: right;\n",
       "    }\n",
       "</style>\n",
       "<table border=\"1\" class=\"dataframe\">\n",
       "  <thead>\n",
       "    <tr style=\"text-align: right;\">\n",
       "      <th></th>\n",
       "      <th>Vancouver</th>\n",
       "      <th>Portland</th>\n",
       "      <th>San Francisco</th>\n",
       "      <th>Seattle</th>\n",
       "      <th>Los Angeles</th>\n",
       "      <th>San Diego</th>\n",
       "      <th>Las Vegas</th>\n",
       "      <th>Phoenix</th>\n",
       "      <th>Albuquerque</th>\n",
       "      <th>Denver</th>\n",
       "      <th>...</th>\n",
       "      <th>Philadelphia</th>\n",
       "      <th>New York</th>\n",
       "      <th>Montreal</th>\n",
       "      <th>Boston</th>\n",
       "      <th>Beersheba</th>\n",
       "      <th>Tel Aviv District</th>\n",
       "      <th>Eilat</th>\n",
       "      <th>Haifa</th>\n",
       "      <th>Nahariyya</th>\n",
       "      <th>Jerusalem</th>\n",
       "    </tr>\n",
       "    <tr>\n",
       "      <th>datetime</th>\n",
       "      <th></th>\n",
       "      <th></th>\n",
       "      <th></th>\n",
       "      <th></th>\n",
       "      <th></th>\n",
       "      <th></th>\n",
       "      <th></th>\n",
       "      <th></th>\n",
       "      <th></th>\n",
       "      <th></th>\n",
       "      <th></th>\n",
       "      <th></th>\n",
       "      <th></th>\n",
       "      <th></th>\n",
       "      <th></th>\n",
       "      <th></th>\n",
       "      <th></th>\n",
       "      <th></th>\n",
       "      <th></th>\n",
       "      <th></th>\n",
       "      <th></th>\n",
       "    </tr>\n",
       "  </thead>\n",
       "  <tbody>\n",
       "    <tr>\n",
       "      <th>2012-10-01 13:00:00</th>\n",
       "      <td>76.0</td>\n",
       "      <td>81.0</td>\n",
       "      <td>88.0</td>\n",
       "      <td>81.0</td>\n",
       "      <td>88.0</td>\n",
       "      <td>82.0</td>\n",
       "      <td>22.0</td>\n",
       "      <td>23.0</td>\n",
       "      <td>50.0</td>\n",
       "      <td>62.0</td>\n",
       "      <td>...</td>\n",
       "      <td>71.0</td>\n",
       "      <td>58.0</td>\n",
       "      <td>93.0</td>\n",
       "      <td>68.0</td>\n",
       "      <td>50.0</td>\n",
       "      <td>63.0</td>\n",
       "      <td>22.0</td>\n",
       "      <td>51.0</td>\n",
       "      <td>51.0</td>\n",
       "      <td>50.0</td>\n",
       "    </tr>\n",
       "    <tr>\n",
       "      <th>2012-10-01 14:00:00</th>\n",
       "      <td>76.0</td>\n",
       "      <td>80.0</td>\n",
       "      <td>87.0</td>\n",
       "      <td>80.0</td>\n",
       "      <td>88.0</td>\n",
       "      <td>81.0</td>\n",
       "      <td>21.0</td>\n",
       "      <td>23.0</td>\n",
       "      <td>49.0</td>\n",
       "      <td>62.0</td>\n",
       "      <td>...</td>\n",
       "      <td>70.0</td>\n",
       "      <td>57.0</td>\n",
       "      <td>91.0</td>\n",
       "      <td>68.0</td>\n",
       "      <td>51.0</td>\n",
       "      <td>62.0</td>\n",
       "      <td>22.0</td>\n",
       "      <td>51.0</td>\n",
       "      <td>51.0</td>\n",
       "      <td>50.0</td>\n",
       "    </tr>\n",
       "    <tr>\n",
       "      <th>2012-10-01 15:00:00</th>\n",
       "      <td>76.0</td>\n",
       "      <td>80.0</td>\n",
       "      <td>86.0</td>\n",
       "      <td>80.0</td>\n",
       "      <td>88.0</td>\n",
       "      <td>81.0</td>\n",
       "      <td>21.0</td>\n",
       "      <td>23.0</td>\n",
       "      <td>49.0</td>\n",
       "      <td>62.0</td>\n",
       "      <td>...</td>\n",
       "      <td>70.0</td>\n",
       "      <td>57.0</td>\n",
       "      <td>87.0</td>\n",
       "      <td>68.0</td>\n",
       "      <td>51.0</td>\n",
       "      <td>62.0</td>\n",
       "      <td>22.0</td>\n",
       "      <td>51.0</td>\n",
       "      <td>51.0</td>\n",
       "      <td>50.0</td>\n",
       "    </tr>\n",
       "    <tr>\n",
       "      <th>2012-10-01 16:00:00</th>\n",
       "      <td>77.0</td>\n",
       "      <td>80.0</td>\n",
       "      <td>85.0</td>\n",
       "      <td>79.0</td>\n",
       "      <td>88.0</td>\n",
       "      <td>81.0</td>\n",
       "      <td>21.0</td>\n",
       "      <td>23.0</td>\n",
       "      <td>49.0</td>\n",
       "      <td>62.0</td>\n",
       "      <td>...</td>\n",
       "      <td>69.0</td>\n",
       "      <td>57.0</td>\n",
       "      <td>84.0</td>\n",
       "      <td>68.0</td>\n",
       "      <td>52.0</td>\n",
       "      <td>62.0</td>\n",
       "      <td>22.0</td>\n",
       "      <td>51.0</td>\n",
       "      <td>51.0</td>\n",
       "      <td>50.0</td>\n",
       "    </tr>\n",
       "    <tr>\n",
       "      <th>2012-10-01 17:00:00</th>\n",
       "      <td>78.0</td>\n",
       "      <td>79.0</td>\n",
       "      <td>84.0</td>\n",
       "      <td>79.0</td>\n",
       "      <td>88.0</td>\n",
       "      <td>80.0</td>\n",
       "      <td>21.0</td>\n",
       "      <td>24.0</td>\n",
       "      <td>49.0</td>\n",
       "      <td>63.0</td>\n",
       "      <td>...</td>\n",
       "      <td>69.0</td>\n",
       "      <td>57.0</td>\n",
       "      <td>80.0</td>\n",
       "      <td>68.0</td>\n",
       "      <td>54.0</td>\n",
       "      <td>62.0</td>\n",
       "      <td>23.0</td>\n",
       "      <td>51.0</td>\n",
       "      <td>51.0</td>\n",
       "      <td>50.0</td>\n",
       "    </tr>\n",
       "  </tbody>\n",
       "</table>\n",
       "<p>5 rows × 36 columns</p>\n",
       "</div>"
      ],
      "text/plain": [
       "                     Vancouver  Portland  San Francisco  Seattle  Los Angeles  \\\n",
       "datetime                                                                        \n",
       "2012-10-01 13:00:00       76.0      81.0           88.0     81.0         88.0   \n",
       "2012-10-01 14:00:00       76.0      80.0           87.0     80.0         88.0   \n",
       "2012-10-01 15:00:00       76.0      80.0           86.0     80.0         88.0   \n",
       "2012-10-01 16:00:00       77.0      80.0           85.0     79.0         88.0   \n",
       "2012-10-01 17:00:00       78.0      79.0           84.0     79.0         88.0   \n",
       "\n",
       "                     San Diego  Las Vegas  Phoenix  Albuquerque  Denver  ...  \\\n",
       "datetime                                                                 ...   \n",
       "2012-10-01 13:00:00       82.0       22.0     23.0         50.0    62.0  ...   \n",
       "2012-10-01 14:00:00       81.0       21.0     23.0         49.0    62.0  ...   \n",
       "2012-10-01 15:00:00       81.0       21.0     23.0         49.0    62.0  ...   \n",
       "2012-10-01 16:00:00       81.0       21.0     23.0         49.0    62.0  ...   \n",
       "2012-10-01 17:00:00       80.0       21.0     24.0         49.0    63.0  ...   \n",
       "\n",
       "                     Philadelphia  New York  Montreal  Boston  Beersheba  \\\n",
       "datetime                                                                   \n",
       "2012-10-01 13:00:00          71.0      58.0      93.0    68.0       50.0   \n",
       "2012-10-01 14:00:00          70.0      57.0      91.0    68.0       51.0   \n",
       "2012-10-01 15:00:00          70.0      57.0      87.0    68.0       51.0   \n",
       "2012-10-01 16:00:00          69.0      57.0      84.0    68.0       52.0   \n",
       "2012-10-01 17:00:00          69.0      57.0      80.0    68.0       54.0   \n",
       "\n",
       "                     Tel Aviv District  Eilat  Haifa  Nahariyya  Jerusalem  \n",
       "datetime                                                                    \n",
       "2012-10-01 13:00:00               63.0   22.0   51.0       51.0       50.0  \n",
       "2012-10-01 14:00:00               62.0   22.0   51.0       51.0       50.0  \n",
       "2012-10-01 15:00:00               62.0   22.0   51.0       51.0       50.0  \n",
       "2012-10-01 16:00:00               62.0   22.0   51.0       51.0       50.0  \n",
       "2012-10-01 17:00:00               62.0   23.0   51.0       51.0       50.0  \n",
       "\n",
       "[5 rows x 36 columns]"
      ]
     },
     "execution_count": 7,
     "metadata": {},
     "output_type": "execute_result"
    }
   ],
   "source": [
    "humidity = humidity.iloc[1:]\n",
    "humidity = humidity.fillna(method='ffill')\n",
    "humidity.head()"
   ]
  },
  {
   "cell_type": "code",
   "execution_count": 8,
   "metadata": {},
   "outputs": [
    {
     "data": {
      "text/plain": [
       "Vancouver            0\n",
       "Portland             0\n",
       "San Francisco        0\n",
       "Seattle              0\n",
       "Los Angeles          0\n",
       "San Diego            0\n",
       "Las Vegas            0\n",
       "Phoenix              0\n",
       "Albuquerque          0\n",
       "Denver               0\n",
       "San Antonio          0\n",
       "Dallas               0\n",
       "Houston              0\n",
       "Kansas City          0\n",
       "Minneapolis          0\n",
       "Saint Louis          0\n",
       "Chicago              0\n",
       "Nashville            0\n",
       "Indianapolis         0\n",
       "Atlanta              0\n",
       "Detroit              0\n",
       "Jacksonville         0\n",
       "Charlotte            0\n",
       "Miami                0\n",
       "Pittsburgh           0\n",
       "Toronto              0\n",
       "Philadelphia         0\n",
       "New York             0\n",
       "Montreal             0\n",
       "Boston               0\n",
       "Beersheba            0\n",
       "Tel Aviv District    0\n",
       "Eilat                0\n",
       "Haifa                0\n",
       "Nahariyya            0\n",
       "Jerusalem            0\n",
       "dtype: int64"
      ]
     },
     "execution_count": 8,
     "metadata": {},
     "output_type": "execute_result"
    }
   ],
   "source": [
    "humidity.isnull().sum()"
   ]
  },
  {
   "cell_type": "markdown",
   "metadata": {},
   "source": [
    "## [数据可视化](#content)"
   ]
  },
  {
   "cell_type": "code",
   "execution_count": 9,
   "metadata": {},
   "outputs": [
    {
     "data": {
      "image/png": "[encoded data removed]",
      "text/plain": [
       "<Figure size 432x288 with 1 Axes>"
      ]
     },
     "metadata": {
      "needs_background": "light"
     },
     "output_type": "display_data"
    }
   ],
   "source": [
    "humidity[\"Kansas City\"].asfreq('M').plot() \n",
    "# asfreq method is used to convert a time series to a specified frequency. Here it is monthly frequency.\n",
    "# asfreq方法用于将时间序列转换为指定频率。这是每月的频率。按照月份对数据做聚合\n",
    "plt.title('Humidity in Kansas City over time(Monthly frequency)')\n",
    "plt.show()"
   ]
  },
  {
   "cell_type": "code",
   "execution_count": 10,
   "metadata": {},
   "outputs": [
    {
     "data": {
      "image/png": "[encoded data removed]",
      "text/plain": [
       "<Figure size 720x864 with 5 Axes>"
      ]
     },
     "metadata": {
      "needs_background": "light"
     },
     "output_type": "display_data"
    }
   ],
   "source": [
    "google['2008':'2010'].plot(subplots=True, figsize=(10,12))\n",
    "plt.title('Google stock attributes from 2008 to 2010')\n",
    "plt.show()"
   ]
  },
  {
   "cell_type": "markdown",
   "metadata": {},
   "source": [
    "## [时间戳和时间段](#content)\n",
    "时间戳用于表示时间点。 时间段代表时间间隔。 时间间隔可用于检查给定期间内是否有特定事件。 它们也可以转换为彼此的形式。"
   ]
  },
  {
   "cell_type": "code",
   "execution_count": 11,
   "metadata": {},
   "outputs": [
    {
     "name": "stdout",
     "output_type": "stream",
     "text": [
      "2017-01-01 12:00:00\n"
     ]
    }
   ],
   "source": [
    "timestamp = pd.Timestamp(2017,1,1,12)\n",
    "print(timestamp)"
   ]
  },
  {
   "cell_type": "code",
   "execution_count": 12,
   "metadata": {},
   "outputs": [
    {
     "name": "stdout",
     "output_type": "stream",
     "text": [
      "2017-01-01\n"
     ]
    }
   ],
   "source": [
    "period = pd.Period('2017-01-01')\n",
    "print(period)"
   ]
  },
  {
   "cell_type": "code",
   "execution_count": 13,
   "metadata": {},
   "outputs": [
    {
     "data": {
      "text/plain": [
       "Period('2017-01-01', 'D')"
      ]
     },
     "execution_count": 13,
     "metadata": {},
     "output_type": "execute_result"
    }
   ],
   "source": [
    "period"
   ]
  },
  {
   "cell_type": "code",
   "execution_count": 14,
   "metadata": {},
   "outputs": [
    {
     "data": {
      "text/plain": [
       "True"
      ]
     },
     "execution_count": 14,
     "metadata": {},
     "output_type": "execute_result"
    }
   ],
   "source": [
    "# 检查时间戳是否在指定的区间\n",
    "period.start_time < timestamp < period.end_time"
   ]
  },
  {
   "cell_type": "code",
   "execution_count": 15,
   "metadata": {},
   "outputs": [
    {
     "name": "stdout",
     "output_type": "stream",
     "text": [
      "2017-01-01 12:00\n"
     ]
    }
   ],
   "source": [
    "new_period = timestamp.to_period(freq = 'H')\n",
    "print(new_period)"
   ]
  },
  {
   "cell_type": "code",
   "execution_count": 16,
   "metadata": {},
   "outputs": [
    {
     "name": "stdout",
     "output_type": "stream",
     "text": [
      "2017-01-01 00:00:00\n"
     ]
    }
   ],
   "source": [
    "new_timestamp = period.to_timestamp(freq = 'H', how = 'start')\n",
    "print(new_timestamp)"
   ]
  },
  {
   "cell_type": "markdown",
   "metadata": {},
   "source": [
    "# 时间间隔\n",
    "date_range是一种返回固定频率datetimeindex的方法。 当创建自己的时间序列属性以用于预先存在的数据或围绕您创建的时间序列属性排列整个数据时，此功能非常有用。"
   ]
  },
  {
   "cell_type": "code",
   "execution_count": 17,
   "metadata": {},
   "outputs": [
    {
     "name": "stdout",
     "output_type": "stream",
     "text": [
      "DatetimeIndex(['2018-01-01', '2018-01-02', '2018-01-03', '2018-01-04',\n",
      "               '2018-01-05', '2018-01-06', '2018-01-07', '2018-01-08',\n",
      "               '2018-01-09'],\n",
      "              dtype='datetime64[ns]', freq='D')\n"
     ]
    }
   ],
   "source": [
    "# 以日为间隔创建datetimeindex\n",
    "dr1 = pd.date_range(start='1/1/18', end = '1/9/18')\n",
    "print(dr1)"
   ]
  },
  {
   "cell_type": "code",
   "execution_count": 18,
   "metadata": {},
   "outputs": [
    {
     "name": "stdout",
     "output_type": "stream",
     "text": [
      "DatetimeIndex(['2018-01-31', '2018-02-28', '2018-03-31', '2018-04-30',\n",
      "               '2018-05-31', '2018-06-30', '2018-07-31', '2018-08-31',\n",
      "               '2018-09-30', '2018-10-31', '2018-11-30', '2018-12-31'],\n",
      "              dtype='datetime64[ns]', freq='M')\n"
     ]
    }
   ],
   "source": [
    "# 以月为间隔创建datetimeindex\n",
    "dr2 = pd.date_range(start = '1/1/18', end = '1/1/19', freq = 'M')\n",
    "print(dr2)"
   ]
  },
  {
   "cell_type": "code",
   "execution_count": 20,
   "metadata": {},
   "outputs": [
    {
     "name": "stdout",
     "output_type": "stream",
     "text": [
      "DatetimeIndex(['2013-12-28', '2013-12-29', '2013-12-30', '2013-12-31',\n",
      "               '2014-01-01', '2014-01-02', '2014-01-03', '2014-01-04'],\n",
      "              dtype='datetime64[ns]', freq='D')\n"
     ]
    }
   ],
   "source": [
    "# 不指定终止时间而用period代替\n",
    "dr3 = pd.date_range(end = '1/4/2014', periods = 8)\n",
    "print(dr3)"
   ]
  },
  {
   "cell_type": "code",
   "execution_count": 21,
   "metadata": {},
   "outputs": [
    {
     "name": "stdout",
     "output_type": "stream",
     "text": [
      "DatetimeIndex(['2013-04-24', '2014-02-09', '2014-11-27'], dtype='datetime64[ns]', freq=None)\n"
     ]
    }
   ],
   "source": [
    "# 在指定终止时间的情况下指定period\n",
    "dr4 = pd.date_range(start = '2013-04-24', end = '2014-11-27', periods = 3)\n",
    "print(dr4)"
   ]
  },
  {
   "cell_type": "markdown",
   "metadata": {},
   "source": [
    "### 使用to_datetime函数\n",
    "pandas.to_datetime()用于将参数转换为日期时间。 在这里，DataFrame将被转换为日期时间序列。"
   ]
  },
  {
   "cell_type": "code",
   "execution_count": 23,
   "metadata": {},
   "outputs": [
    {
     "name": "stdout",
     "output_type": "stream",
     "text": [
      "   year  month  day\n",
      "0  2015      2    4\n",
      "1  2016      3    5\n"
     ]
    }
   ],
   "source": [
    "df = pd.DataFrame({'year' : [2015,2016], 'month':[2,3], 'day':[4,5]})\n",
    "print(df)"
   ]
  },
  {
   "cell_type": "code",
   "execution_count": 26,
   "metadata": {},
   "outputs": [
    {
     "name": "stdout",
     "output_type": "stream",
     "text": [
      "0   2015-02-04\n",
      "1   2016-03-05\n",
      "dtype: datetime64[ns]\n"
     ]
    }
   ],
   "source": [
    "df = pd.to_datetime(df)\n",
    "print(df)"
   ]
  },
  {
   "cell_type": "code",
   "execution_count": 27,
   "metadata": {},
   "outputs": [
    {
     "name": "stdout",
     "output_type": "stream",
     "text": [
      "2017-01-01 00:00:00\n"
     ]
    }
   ],
   "source": [
    "df = pd.to_datetime('01-01-2017')\n",
    "print(df)"
   ]
  },
  {
   "cell_type": "markdown",
   "metadata": {},
   "source": [
    "### [偏移和滞后](#content)\n",
    "我们可以使用可选的时间频率将索引按所需的周期数移动。 将时间序列与其自身的过去进行比较时，这很有用"
   ]
  },
  {
   "cell_type": "code",
   "execution_count": 28,
   "metadata": {},
   "outputs": [
    {
     "data": {
      "text/plain": [
       "<matplotlib.axes._subplots.AxesSubplot at 0x7f042d0a00d0>"
      ]
     },
     "execution_count": 28,
     "metadata": {},
     "output_type": "execute_result"
    },
    {
     "data": {
      "image/png": "[encoded data removed]",
      "text/plain": [
       "<Figure size 432x288 with 1 Axes>"
      ]
     },
     "metadata": {
      "needs_background": "light"
     },
     "output_type": "display_data"
    }
   ],
   "source": [
    "humidity[\"Vancouver\"].asfreq('M').plot(legend=True)"
   ]
  },
  {
   "cell_type": "code",
   "execution_count": 31,
   "metadata": {},
   "outputs": [
    {
     "data": {
      "image/png": "[encoded data removed]",
      "text/plain": [
       "<Figure size 432x288 with 1 Axes>"
      ]
     },
     "metadata": {
      "needs_background": "light"
     },
     "output_type": "display_data"
    }
   ],
   "source": [
    "humidity[\"Vancouver\"].asfreq('M').plot(legend=True)\n",
    "shifted = humidity[\"Vancouver\"].asfreq('M').shift(10).plot(legend=True)\n",
    "shifted.legend(['Vancouver','Vancouver_lagged'])\n",
    "plt.show()"
   ]
  },
  {
   "cell_type": "markdown",
   "metadata": {},
   "source": [
    "### [重采样](#content)\n",
    "**上采样**-时间序列从低频到高频（从每月到每天）重新采样。 它涉及填充或内插丢失的数据。\n",
    "\n",
    "**下采样**-时间序列从高频重新采样到低频（每周一次到每月一次）。 它涉及现有数据的汇总。"
   ]
  },
  {
   "cell_type": "code",
   "execution_count": 48,
   "metadata": {},
   "outputs": [
    {
     "data": {
      "text/html": [
       "<div>\n",
       "<style scoped>\n",
       "    .dataframe tbody tr th:only-of-type {\n",
       "        vertical-align: middle;\n",
       "    }\n",
       "\n",
       "    .dataframe tbody tr th {\n",
       "        vertical-align: top;\n",
       "    }\n",
       "\n",
       "    .dataframe thead th {\n",
       "        text-align: right;\n",
       "    }\n",
       "</style>\n",
       "<table border=\"1\" class=\"dataframe\">\n",
       "  <thead>\n",
       "    <tr style=\"text-align: right;\">\n",
       "      <th></th>\n",
       "      <th>Vancouver</th>\n",
       "      <th>Portland</th>\n",
       "      <th>San Francisco</th>\n",
       "      <th>Seattle</th>\n",
       "      <th>Los Angeles</th>\n",
       "      <th>San Diego</th>\n",
       "      <th>Las Vegas</th>\n",
       "      <th>Phoenix</th>\n",
       "      <th>Albuquerque</th>\n",
       "      <th>Denver</th>\n",
       "      <th>...</th>\n",
       "      <th>Philadelphia</th>\n",
       "      <th>New York</th>\n",
       "      <th>Montreal</th>\n",
       "      <th>Boston</th>\n",
       "      <th>Beersheba</th>\n",
       "      <th>Tel Aviv District</th>\n",
       "      <th>Eilat</th>\n",
       "      <th>Haifa</th>\n",
       "      <th>Nahariyya</th>\n",
       "      <th>Jerusalem</th>\n",
       "    </tr>\n",
       "    <tr>\n",
       "      <th>datetime</th>\n",
       "      <th></th>\n",
       "      <th></th>\n",
       "      <th></th>\n",
       "      <th></th>\n",
       "      <th></th>\n",
       "      <th></th>\n",
       "      <th></th>\n",
       "      <th></th>\n",
       "      <th></th>\n",
       "      <th></th>\n",
       "      <th></th>\n",
       "      <th></th>\n",
       "      <th></th>\n",
       "      <th></th>\n",
       "      <th></th>\n",
       "      <th></th>\n",
       "      <th></th>\n",
       "      <th></th>\n",
       "      <th></th>\n",
       "      <th></th>\n",
       "      <th></th>\n",
       "    </tr>\n",
       "  </thead>\n",
       "  <tbody>\n",
       "    <tr>\n",
       "      <th>2017-11-29 20:00:00</th>\n",
       "      <td>NaN</td>\n",
       "      <td>1031.0</td>\n",
       "      <td>NaN</td>\n",
       "      <td>1030.0</td>\n",
       "      <td>1016.0</td>\n",
       "      <td>1017.0</td>\n",
       "      <td>1021.0</td>\n",
       "      <td>1018.0</td>\n",
       "      <td>1025.0</td>\n",
       "      <td>1016.0</td>\n",
       "      <td>...</td>\n",
       "      <td>1021.0</td>\n",
       "      <td>NaN</td>\n",
       "      <td>1021.0</td>\n",
       "      <td>1017.0</td>\n",
       "      <td>NaN</td>\n",
       "      <td>NaN</td>\n",
       "      <td>NaN</td>\n",
       "      <td>NaN</td>\n",
       "      <td>NaN</td>\n",
       "      <td>NaN</td>\n",
       "    </tr>\n",
       "    <tr>\n",
       "      <th>2017-11-29 21:00:00</th>\n",
       "      <td>NaN</td>\n",
       "      <td>1030.0</td>\n",
       "      <td>NaN</td>\n",
       "      <td>1030.0</td>\n",
       "      <td>1016.0</td>\n",
       "      <td>1017.0</td>\n",
       "      <td>1020.0</td>\n",
       "      <td>1018.0</td>\n",
       "      <td>1024.0</td>\n",
       "      <td>1018.0</td>\n",
       "      <td>...</td>\n",
       "      <td>1021.0</td>\n",
       "      <td>NaN</td>\n",
       "      <td>1023.0</td>\n",
       "      <td>1019.0</td>\n",
       "      <td>NaN</td>\n",
       "      <td>NaN</td>\n",
       "      <td>NaN</td>\n",
       "      <td>NaN</td>\n",
       "      <td>NaN</td>\n",
       "      <td>NaN</td>\n",
       "    </tr>\n",
       "    <tr>\n",
       "      <th>2017-11-29 22:00:00</th>\n",
       "      <td>NaN</td>\n",
       "      <td>1030.0</td>\n",
       "      <td>NaN</td>\n",
       "      <td>1029.0</td>\n",
       "      <td>1015.0</td>\n",
       "      <td>1016.0</td>\n",
       "      <td>1020.0</td>\n",
       "      <td>1017.0</td>\n",
       "      <td>1024.0</td>\n",
       "      <td>1018.0</td>\n",
       "      <td>...</td>\n",
       "      <td>1022.0</td>\n",
       "      <td>NaN</td>\n",
       "      <td>1024.0</td>\n",
       "      <td>1019.0</td>\n",
       "      <td>NaN</td>\n",
       "      <td>NaN</td>\n",
       "      <td>NaN</td>\n",
       "      <td>NaN</td>\n",
       "      <td>NaN</td>\n",
       "      <td>NaN</td>\n",
       "    </tr>\n",
       "    <tr>\n",
       "      <th>2017-11-29 23:00:00</th>\n",
       "      <td>NaN</td>\n",
       "      <td>1029.0</td>\n",
       "      <td>NaN</td>\n",
       "      <td>1028.0</td>\n",
       "      <td>1016.0</td>\n",
       "      <td>1016.0</td>\n",
       "      <td>1020.0</td>\n",
       "      <td>1016.0</td>\n",
       "      <td>1024.0</td>\n",
       "      <td>1020.0</td>\n",
       "      <td>...</td>\n",
       "      <td>1023.0</td>\n",
       "      <td>NaN</td>\n",
       "      <td>1026.0</td>\n",
       "      <td>1022.0</td>\n",
       "      <td>NaN</td>\n",
       "      <td>NaN</td>\n",
       "      <td>NaN</td>\n",
       "      <td>NaN</td>\n",
       "      <td>NaN</td>\n",
       "      <td>NaN</td>\n",
       "    </tr>\n",
       "    <tr>\n",
       "      <th>2017-11-30 00:00:00</th>\n",
       "      <td>NaN</td>\n",
       "      <td>1029.0</td>\n",
       "      <td>NaN</td>\n",
       "      <td>1028.0</td>\n",
       "      <td>1015.0</td>\n",
       "      <td>1017.0</td>\n",
       "      <td>1019.0</td>\n",
       "      <td>1016.0</td>\n",
       "      <td>1024.0</td>\n",
       "      <td>1021.0</td>\n",
       "      <td>...</td>\n",
       "      <td>1024.0</td>\n",
       "      <td>NaN</td>\n",
       "      <td>1027.0</td>\n",
       "      <td>1023.0</td>\n",
       "      <td>NaN</td>\n",
       "      <td>NaN</td>\n",
       "      <td>NaN</td>\n",
       "      <td>NaN</td>\n",
       "      <td>NaN</td>\n",
       "      <td>NaN</td>\n",
       "    </tr>\n",
       "  </tbody>\n",
       "</table>\n",
       "<p>5 rows × 36 columns</p>\n",
       "</div>"
      ],
      "text/plain": [
       "                     Vancouver  Portland  San Francisco  Seattle  Los Angeles  \\\n",
       "datetime                                                                        \n",
       "2017-11-29 20:00:00        NaN    1031.0            NaN   1030.0       1016.0   \n",
       "2017-11-29 21:00:00        NaN    1030.0            NaN   1030.0       1016.0   \n",
       "2017-11-29 22:00:00        NaN    1030.0            NaN   1029.0       1015.0   \n",
       "2017-11-29 23:00:00        NaN    1029.0            NaN   1028.0       1016.0   \n",
       "2017-11-30 00:00:00        NaN    1029.0            NaN   1028.0       1015.0   \n",
       "\n",
       "                     San Diego  Las Vegas  Phoenix  Albuquerque  Denver  ...  \\\n",
       "datetime                                                                 ...   \n",
       "2017-11-29 20:00:00     1017.0     1021.0   1018.0       1025.0  1016.0  ...   \n",
       "2017-11-29 21:00:00     1017.0     1020.0   1018.0       1024.0  1018.0  ...   \n",
       "2017-11-29 22:00:00     1016.0     1020.0   1017.0       1024.0  1018.0  ...   \n",
       "2017-11-29 23:00:00     1016.0     1020.0   1016.0       1024.0  1020.0  ...   \n",
       "2017-11-30 00:00:00     1017.0     1019.0   1016.0       1024.0  1021.0  ...   \n",
       "\n",
       "                     Philadelphia  New York  Montreal  Boston  Beersheba  \\\n",
       "datetime                                                                   \n",
       "2017-11-29 20:00:00        1021.0       NaN    1021.0  1017.0        NaN   \n",
       "2017-11-29 21:00:00        1021.0       NaN    1023.0  1019.0        NaN   \n",
       "2017-11-29 22:00:00        1022.0       NaN    1024.0  1019.0        NaN   \n",
       "2017-11-29 23:00:00        1023.0       NaN    1026.0  1022.0        NaN   \n",
       "2017-11-30 00:00:00        1024.0       NaN    1027.0  1023.0        NaN   \n",
       "\n",
       "                     Tel Aviv District  Eilat  Haifa  Nahariyya  Jerusalem  \n",
       "datetime                                                                    \n",
       "2017-11-29 20:00:00                NaN    NaN    NaN        NaN        NaN  \n",
       "2017-11-29 21:00:00                NaN    NaN    NaN        NaN        NaN  \n",
       "2017-11-29 22:00:00                NaN    NaN    NaN        NaN        NaN  \n",
       "2017-11-29 23:00:00                NaN    NaN    NaN        NaN        NaN  \n",
       "2017-11-30 00:00:00                NaN    NaN    NaN        NaN        NaN  \n",
       "\n",
       "[5 rows x 36 columns]"
      ]
     },
     "execution_count": 48,
     "metadata": {},
     "output_type": "execute_result"
    }
   ],
   "source": [
    "pressure = pd.read_csv('./data/pressure.csv', index_col='datetime', parse_dates=['datetime'])\n",
    "pressure.tail()"
   ]
  },
  {
   "cell_type": "code",
   "execution_count": 49,
   "metadata": {},
   "outputs": [
    {
     "data": {
      "text/plain": [
       "Vancouver            4234\n",
       "Portland                4\n",
       "San Francisco         815\n",
       "Seattle                13\n",
       "Los Angeles           252\n",
       "San Diego             175\n",
       "Las Vegas              88\n",
       "Phoenix               594\n",
       "Albuquerque           456\n",
       "Denver                543\n",
       "San Antonio            17\n",
       "Dallas                 60\n",
       "Houston                 9\n",
       "Kansas City           121\n",
       "Minneapolis            17\n",
       "Saint Louis            68\n",
       "Chicago               725\n",
       "Nashville             147\n",
       "Indianapolis          289\n",
       "Atlanta                49\n",
       "Detroit                 5\n",
       "Jacksonville           15\n",
       "Charlotte               3\n",
       "Miami                 794\n",
       "Pittsburgh             46\n",
       "Toronto               175\n",
       "Philadelphia            4\n",
       "New York             1041\n",
       "Montreal              994\n",
       "Boston                  7\n",
       "Beersheba             806\n",
       "Tel Aviv District     930\n",
       "Eilat                 792\n",
       "Haifa                 798\n",
       "Nahariyya             795\n",
       "Jerusalem             799\n",
       "dtype: int64"
      ]
     },
     "execution_count": 49,
     "metadata": {},
     "output_type": "execute_result"
    }
   ],
   "source": [
    "pressure.isnull().sum()"
   ]
  },
  {
   "cell_type": "code",
   "execution_count": 50,
   "metadata": {},
   "outputs": [
    {
     "data": {
      "text/html": [
       "<div>\n",
       "<style scoped>\n",
       "    .dataframe tbody tr th:only-of-type {\n",
       "        vertical-align: middle;\n",
       "    }\n",
       "\n",
       "    .dataframe tbody tr th {\n",
       "        vertical-align: top;\n",
       "    }\n",
       "\n",
       "    .dataframe thead th {\n",
       "        text-align: right;\n",
       "    }\n",
       "</style>\n",
       "<table border=\"1\" class=\"dataframe\">\n",
       "  <thead>\n",
       "    <tr style=\"text-align: right;\">\n",
       "      <th></th>\n",
       "      <th>Vancouver</th>\n",
       "      <th>Portland</th>\n",
       "      <th>San Francisco</th>\n",
       "      <th>Seattle</th>\n",
       "      <th>Los Angeles</th>\n",
       "      <th>San Diego</th>\n",
       "      <th>Las Vegas</th>\n",
       "      <th>Phoenix</th>\n",
       "      <th>Albuquerque</th>\n",
       "      <th>Denver</th>\n",
       "      <th>...</th>\n",
       "      <th>Philadelphia</th>\n",
       "      <th>New York</th>\n",
       "      <th>Montreal</th>\n",
       "      <th>Boston</th>\n",
       "      <th>Beersheba</th>\n",
       "      <th>Tel Aviv District</th>\n",
       "      <th>Eilat</th>\n",
       "      <th>Haifa</th>\n",
       "      <th>Nahariyya</th>\n",
       "      <th>Jerusalem</th>\n",
       "    </tr>\n",
       "    <tr>\n",
       "      <th>datetime</th>\n",
       "      <th></th>\n",
       "      <th></th>\n",
       "      <th></th>\n",
       "      <th></th>\n",
       "      <th></th>\n",
       "      <th></th>\n",
       "      <th></th>\n",
       "      <th></th>\n",
       "      <th></th>\n",
       "      <th></th>\n",
       "      <th></th>\n",
       "      <th></th>\n",
       "      <th></th>\n",
       "      <th></th>\n",
       "      <th></th>\n",
       "      <th></th>\n",
       "      <th></th>\n",
       "      <th></th>\n",
       "      <th></th>\n",
       "      <th></th>\n",
       "      <th></th>\n",
       "    </tr>\n",
       "  </thead>\n",
       "  <tbody>\n",
       "    <tr>\n",
       "      <th>2017-11-29 20:00:00</th>\n",
       "      <td>1021.0</td>\n",
       "      <td>1031.0</td>\n",
       "      <td>1013.0</td>\n",
       "      <td>1030.0</td>\n",
       "      <td>1016.0</td>\n",
       "      <td>1017.0</td>\n",
       "      <td>1021.0</td>\n",
       "      <td>1018.0</td>\n",
       "      <td>1025.0</td>\n",
       "      <td>1016.0</td>\n",
       "      <td>...</td>\n",
       "      <td>1021.0</td>\n",
       "      <td>1020.0</td>\n",
       "      <td>1021.0</td>\n",
       "      <td>1017.0</td>\n",
       "      <td>984.0</td>\n",
       "      <td>1011.0</td>\n",
       "      <td>968.0</td>\n",
       "      <td>1023.0</td>\n",
       "      <td>1023.0</td>\n",
       "      <td>1011.0</td>\n",
       "    </tr>\n",
       "    <tr>\n",
       "      <th>2017-11-29 21:00:00</th>\n",
       "      <td>1021.0</td>\n",
       "      <td>1030.0</td>\n",
       "      <td>1013.0</td>\n",
       "      <td>1030.0</td>\n",
       "      <td>1016.0</td>\n",
       "      <td>1017.0</td>\n",
       "      <td>1020.0</td>\n",
       "      <td>1018.0</td>\n",
       "      <td>1024.0</td>\n",
       "      <td>1018.0</td>\n",
       "      <td>...</td>\n",
       "      <td>1021.0</td>\n",
       "      <td>1020.0</td>\n",
       "      <td>1023.0</td>\n",
       "      <td>1019.0</td>\n",
       "      <td>984.0</td>\n",
       "      <td>1011.0</td>\n",
       "      <td>968.0</td>\n",
       "      <td>1023.0</td>\n",
       "      <td>1023.0</td>\n",
       "      <td>1011.0</td>\n",
       "    </tr>\n",
       "    <tr>\n",
       "      <th>2017-11-29 22:00:00</th>\n",
       "      <td>1021.0</td>\n",
       "      <td>1030.0</td>\n",
       "      <td>1013.0</td>\n",
       "      <td>1029.0</td>\n",
       "      <td>1015.0</td>\n",
       "      <td>1016.0</td>\n",
       "      <td>1020.0</td>\n",
       "      <td>1017.0</td>\n",
       "      <td>1024.0</td>\n",
       "      <td>1018.0</td>\n",
       "      <td>...</td>\n",
       "      <td>1022.0</td>\n",
       "      <td>1020.0</td>\n",
       "      <td>1024.0</td>\n",
       "      <td>1019.0</td>\n",
       "      <td>984.0</td>\n",
       "      <td>1011.0</td>\n",
       "      <td>968.0</td>\n",
       "      <td>1023.0</td>\n",
       "      <td>1023.0</td>\n",
       "      <td>1011.0</td>\n",
       "    </tr>\n",
       "    <tr>\n",
       "      <th>2017-11-29 23:00:00</th>\n",
       "      <td>1021.0</td>\n",
       "      <td>1029.0</td>\n",
       "      <td>1013.0</td>\n",
       "      <td>1028.0</td>\n",
       "      <td>1016.0</td>\n",
       "      <td>1016.0</td>\n",
       "      <td>1020.0</td>\n",
       "      <td>1016.0</td>\n",
       "      <td>1024.0</td>\n",
       "      <td>1020.0</td>\n",
       "      <td>...</td>\n",
       "      <td>1023.0</td>\n",
       "      <td>1020.0</td>\n",
       "      <td>1026.0</td>\n",
       "      <td>1022.0</td>\n",
       "      <td>984.0</td>\n",
       "      <td>1011.0</td>\n",
       "      <td>968.0</td>\n",
       "      <td>1023.0</td>\n",
       "      <td>1023.0</td>\n",
       "      <td>1011.0</td>\n",
       "    </tr>\n",
       "    <tr>\n",
       "      <th>2017-11-30 00:00:00</th>\n",
       "      <td>1021.0</td>\n",
       "      <td>1029.0</td>\n",
       "      <td>1013.0</td>\n",
       "      <td>1028.0</td>\n",
       "      <td>1015.0</td>\n",
       "      <td>1017.0</td>\n",
       "      <td>1019.0</td>\n",
       "      <td>1016.0</td>\n",
       "      <td>1024.0</td>\n",
       "      <td>1021.0</td>\n",
       "      <td>...</td>\n",
       "      <td>1024.0</td>\n",
       "      <td>1020.0</td>\n",
       "      <td>1027.0</td>\n",
       "      <td>1023.0</td>\n",
       "      <td>984.0</td>\n",
       "      <td>1011.0</td>\n",
       "      <td>968.0</td>\n",
       "      <td>1023.0</td>\n",
       "      <td>1023.0</td>\n",
       "      <td>1011.0</td>\n",
       "    </tr>\n",
       "  </tbody>\n",
       "</table>\n",
       "<p>5 rows × 36 columns</p>\n",
       "</div>"
      ],
      "text/plain": [
       "                     Vancouver  Portland  San Francisco  Seattle  Los Angeles  \\\n",
       "datetime                                                                        \n",
       "2017-11-29 20:00:00     1021.0    1031.0         1013.0   1030.0       1016.0   \n",
       "2017-11-29 21:00:00     1021.0    1030.0         1013.0   1030.0       1016.0   \n",
       "2017-11-29 22:00:00     1021.0    1030.0         1013.0   1029.0       1015.0   \n",
       "2017-11-29 23:00:00     1021.0    1029.0         1013.0   1028.0       1016.0   \n",
       "2017-11-30 00:00:00     1021.0    1029.0         1013.0   1028.0       1015.0   \n",
       "\n",
       "                     San Diego  Las Vegas  Phoenix  Albuquerque  Denver  ...  \\\n",
       "datetime                                                                 ...   \n",
       "2017-11-29 20:00:00     1017.0     1021.0   1018.0       1025.0  1016.0  ...   \n",
       "2017-11-29 21:00:00     1017.0     1020.0   1018.0       1024.0  1018.0  ...   \n",
       "2017-11-29 22:00:00     1016.0     1020.0   1017.0       1024.0  1018.0  ...   \n",
       "2017-11-29 23:00:00     1016.0     1020.0   1016.0       1024.0  1020.0  ...   \n",
       "2017-11-30 00:00:00     1017.0     1019.0   1016.0       1024.0  1021.0  ...   \n",
       "\n",
       "                     Philadelphia  New York  Montreal  Boston  Beersheba  \\\n",
       "datetime                                                                   \n",
       "2017-11-29 20:00:00        1021.0    1020.0    1021.0  1017.0      984.0   \n",
       "2017-11-29 21:00:00        1021.0    1020.0    1023.0  1019.0      984.0   \n",
       "2017-11-29 22:00:00        1022.0    1020.0    1024.0  1019.0      984.0   \n",
       "2017-11-29 23:00:00        1023.0    1020.0    1026.0  1022.0      984.0   \n",
       "2017-11-30 00:00:00        1024.0    1020.0    1027.0  1023.0      984.0   \n",
       "\n",
       "                     Tel Aviv District  Eilat   Haifa  Nahariyya  Jerusalem  \n",
       "datetime                                                                     \n",
       "2017-11-29 20:00:00             1011.0  968.0  1023.0     1023.0     1011.0  \n",
       "2017-11-29 21:00:00             1011.0  968.0  1023.0     1023.0     1011.0  \n",
       "2017-11-29 22:00:00             1011.0  968.0  1023.0     1023.0     1011.0  \n",
       "2017-11-29 23:00:00             1011.0  968.0  1023.0     1023.0     1011.0  \n",
       "2017-11-30 00:00:00             1011.0  968.0  1023.0     1023.0     1011.0  \n",
       "\n",
       "[5 rows x 36 columns]"
      ]
     },
     "execution_count": 50,
     "metadata": {},
     "output_type": "execute_result"
    }
   ],
   "source": [
    "pressure = pressure.iloc[1:]\n",
    "pressure = pressure.fillna(method='ffill')\n",
    "pressure.tail()"
   ]
  },
  {
   "cell_type": "code",
   "execution_count": 51,
   "metadata": {},
   "outputs": [
    {
     "data": {
      "text/plain": [
       "Vancouver            20\n",
       "Portland              0\n",
       "San Francisco         0\n",
       "Seattle               0\n",
       "Los Angeles           0\n",
       "San Diego             0\n",
       "Las Vegas             0\n",
       "Phoenix               0\n",
       "Albuquerque           0\n",
       "Denver                0\n",
       "San Antonio           0\n",
       "Dallas                0\n",
       "Houston               0\n",
       "Kansas City           0\n",
       "Minneapolis           0\n",
       "Saint Louis           0\n",
       "Chicago               0\n",
       "Nashville             0\n",
       "Indianapolis          0\n",
       "Atlanta               0\n",
       "Detroit               0\n",
       "Jacksonville          0\n",
       "Charlotte             0\n",
       "Miami                 0\n",
       "Pittsburgh            0\n",
       "Toronto               0\n",
       "Philadelphia          0\n",
       "New York              0\n",
       "Montreal              0\n",
       "Boston                0\n",
       "Beersheba             0\n",
       "Tel Aviv District     0\n",
       "Eilat                 0\n",
       "Haifa                 0\n",
       "Nahariyya             0\n",
       "Jerusalem             0\n",
       "dtype: int64"
      ]
     },
     "execution_count": 51,
     "metadata": {},
     "output_type": "execute_result"
    }
   ],
   "source": [
    "pressure.isnull().sum()"
   ]
  },
  {
   "cell_type": "markdown",
   "metadata": {},
   "source": [
    "这里仍有一些缺失值"
   ]
  },
  {
   "cell_type": "code",
   "execution_count": 52,
   "metadata": {},
   "outputs": [
    {
     "data": {
      "text/html": [
       "<div>\n",
       "<style scoped>\n",
       "    .dataframe tbody tr th:only-of-type {\n",
       "        vertical-align: middle;\n",
       "    }\n",
       "\n",
       "    .dataframe tbody tr th {\n",
       "        vertical-align: top;\n",
       "    }\n",
       "\n",
       "    .dataframe thead th {\n",
       "        text-align: right;\n",
       "    }\n",
       "</style>\n",
       "<table border=\"1\" class=\"dataframe\">\n",
       "  <thead>\n",
       "    <tr style=\"text-align: right;\">\n",
       "      <th></th>\n",
       "      <th>Vancouver</th>\n",
       "      <th>Portland</th>\n",
       "      <th>San Francisco</th>\n",
       "      <th>Seattle</th>\n",
       "      <th>Los Angeles</th>\n",
       "      <th>San Diego</th>\n",
       "      <th>Las Vegas</th>\n",
       "      <th>Phoenix</th>\n",
       "      <th>Albuquerque</th>\n",
       "      <th>Denver</th>\n",
       "      <th>...</th>\n",
       "      <th>Philadelphia</th>\n",
       "      <th>New York</th>\n",
       "      <th>Montreal</th>\n",
       "      <th>Boston</th>\n",
       "      <th>Beersheba</th>\n",
       "      <th>Tel Aviv District</th>\n",
       "      <th>Eilat</th>\n",
       "      <th>Haifa</th>\n",
       "      <th>Nahariyya</th>\n",
       "      <th>Jerusalem</th>\n",
       "    </tr>\n",
       "    <tr>\n",
       "      <th>datetime</th>\n",
       "      <th></th>\n",
       "      <th></th>\n",
       "      <th></th>\n",
       "      <th></th>\n",
       "      <th></th>\n",
       "      <th></th>\n",
       "      <th></th>\n",
       "      <th></th>\n",
       "      <th></th>\n",
       "      <th></th>\n",
       "      <th></th>\n",
       "      <th></th>\n",
       "      <th></th>\n",
       "      <th></th>\n",
       "      <th></th>\n",
       "      <th></th>\n",
       "      <th></th>\n",
       "      <th></th>\n",
       "      <th></th>\n",
       "      <th></th>\n",
       "      <th></th>\n",
       "    </tr>\n",
       "  </thead>\n",
       "  <tbody>\n",
       "    <tr>\n",
       "      <th>2012-10-01 13:00:00</th>\n",
       "      <td>807.0</td>\n",
       "      <td>1024.0</td>\n",
       "      <td>1009.0</td>\n",
       "      <td>1027.0</td>\n",
       "      <td>1013.0</td>\n",
       "      <td>1013.0</td>\n",
       "      <td>1018.0</td>\n",
       "      <td>1013.0</td>\n",
       "      <td>1024.0</td>\n",
       "      <td>1028.0</td>\n",
       "      <td>...</td>\n",
       "      <td>1014.0</td>\n",
       "      <td>1012.0</td>\n",
       "      <td>1001.0</td>\n",
       "      <td>1014.0</td>\n",
       "      <td>984.0</td>\n",
       "      <td>1012.0</td>\n",
       "      <td>1010.0</td>\n",
       "      <td>1013.0</td>\n",
       "      <td>1013.0</td>\n",
       "      <td>990.0</td>\n",
       "    </tr>\n",
       "    <tr>\n",
       "      <th>2012-10-01 14:00:00</th>\n",
       "      <td>807.0</td>\n",
       "      <td>1024.0</td>\n",
       "      <td>1009.0</td>\n",
       "      <td>1027.0</td>\n",
       "      <td>1013.0</td>\n",
       "      <td>1013.0</td>\n",
       "      <td>1018.0</td>\n",
       "      <td>1013.0</td>\n",
       "      <td>1024.0</td>\n",
       "      <td>1028.0</td>\n",
       "      <td>...</td>\n",
       "      <td>1014.0</td>\n",
       "      <td>1012.0</td>\n",
       "      <td>986.0</td>\n",
       "      <td>1014.0</td>\n",
       "      <td>984.0</td>\n",
       "      <td>1012.0</td>\n",
       "      <td>1010.0</td>\n",
       "      <td>1013.0</td>\n",
       "      <td>1013.0</td>\n",
       "      <td>990.0</td>\n",
       "    </tr>\n",
       "    <tr>\n",
       "      <th>2012-10-01 15:00:00</th>\n",
       "      <td>807.0</td>\n",
       "      <td>1024.0</td>\n",
       "      <td>1009.0</td>\n",
       "      <td>1028.0</td>\n",
       "      <td>1013.0</td>\n",
       "      <td>1013.0</td>\n",
       "      <td>1018.0</td>\n",
       "      <td>1013.0</td>\n",
       "      <td>1024.0</td>\n",
       "      <td>1028.0</td>\n",
       "      <td>...</td>\n",
       "      <td>1014.0</td>\n",
       "      <td>1012.0</td>\n",
       "      <td>945.0</td>\n",
       "      <td>1014.0</td>\n",
       "      <td>984.0</td>\n",
       "      <td>1012.0</td>\n",
       "      <td>1010.0</td>\n",
       "      <td>1013.0</td>\n",
       "      <td>1013.0</td>\n",
       "      <td>990.0</td>\n",
       "    </tr>\n",
       "    <tr>\n",
       "      <th>2012-10-01 16:00:00</th>\n",
       "      <td>807.0</td>\n",
       "      <td>1024.0</td>\n",
       "      <td>1009.0</td>\n",
       "      <td>1028.0</td>\n",
       "      <td>1013.0</td>\n",
       "      <td>1013.0</td>\n",
       "      <td>1018.0</td>\n",
       "      <td>1013.0</td>\n",
       "      <td>1024.0</td>\n",
       "      <td>1028.0</td>\n",
       "      <td>...</td>\n",
       "      <td>1014.0</td>\n",
       "      <td>1012.0</td>\n",
       "      <td>904.0</td>\n",
       "      <td>1014.0</td>\n",
       "      <td>984.0</td>\n",
       "      <td>1012.0</td>\n",
       "      <td>1010.0</td>\n",
       "      <td>1013.0</td>\n",
       "      <td>1013.0</td>\n",
       "      <td>990.0</td>\n",
       "    </tr>\n",
       "    <tr>\n",
       "      <th>2012-10-01 17:00:00</th>\n",
       "      <td>807.0</td>\n",
       "      <td>1024.0</td>\n",
       "      <td>1009.0</td>\n",
       "      <td>1029.0</td>\n",
       "      <td>1013.0</td>\n",
       "      <td>1013.0</td>\n",
       "      <td>1018.0</td>\n",
       "      <td>1013.0</td>\n",
       "      <td>1024.0</td>\n",
       "      <td>1028.0</td>\n",
       "      <td>...</td>\n",
       "      <td>1014.0</td>\n",
       "      <td>1012.0</td>\n",
       "      <td>863.0</td>\n",
       "      <td>1014.0</td>\n",
       "      <td>984.0</td>\n",
       "      <td>1012.0</td>\n",
       "      <td>1010.0</td>\n",
       "      <td>1013.0</td>\n",
       "      <td>1013.0</td>\n",
       "      <td>990.0</td>\n",
       "    </tr>\n",
       "  </tbody>\n",
       "</table>\n",
       "<p>5 rows × 36 columns</p>\n",
       "</div>"
      ],
      "text/plain": [
       "                     Vancouver  Portland  San Francisco  Seattle  Los Angeles  \\\n",
       "datetime                                                                        \n",
       "2012-10-01 13:00:00      807.0    1024.0         1009.0   1027.0       1013.0   \n",
       "2012-10-01 14:00:00      807.0    1024.0         1009.0   1027.0       1013.0   \n",
       "2012-10-01 15:00:00      807.0    1024.0         1009.0   1028.0       1013.0   \n",
       "2012-10-01 16:00:00      807.0    1024.0         1009.0   1028.0       1013.0   \n",
       "2012-10-01 17:00:00      807.0    1024.0         1009.0   1029.0       1013.0   \n",
       "\n",
       "                     San Diego  Las Vegas  Phoenix  Albuquerque  Denver  ...  \\\n",
       "datetime                                                                 ...   \n",
       "2012-10-01 13:00:00     1013.0     1018.0   1013.0       1024.0  1028.0  ...   \n",
       "2012-10-01 14:00:00     1013.0     1018.0   1013.0       1024.0  1028.0  ...   \n",
       "2012-10-01 15:00:00     1013.0     1018.0   1013.0       1024.0  1028.0  ...   \n",
       "2012-10-01 16:00:00     1013.0     1018.0   1013.0       1024.0  1028.0  ...   \n",
       "2012-10-01 17:00:00     1013.0     1018.0   1013.0       1024.0  1028.0  ...   \n",
       "\n",
       "                     Philadelphia  New York  Montreal  Boston  Beersheba  \\\n",
       "datetime                                                                   \n",
       "2012-10-01 13:00:00        1014.0    1012.0    1001.0  1014.0      984.0   \n",
       "2012-10-01 14:00:00        1014.0    1012.0     986.0  1014.0      984.0   \n",
       "2012-10-01 15:00:00        1014.0    1012.0     945.0  1014.0      984.0   \n",
       "2012-10-01 16:00:00        1014.0    1012.0     904.0  1014.0      984.0   \n",
       "2012-10-01 17:00:00        1014.0    1012.0     863.0  1014.0      984.0   \n",
       "\n",
       "                     Tel Aviv District   Eilat   Haifa  Nahariyya  Jerusalem  \n",
       "datetime                                                                      \n",
       "2012-10-01 13:00:00             1012.0  1010.0  1013.0     1013.0      990.0  \n",
       "2012-10-01 14:00:00             1012.0  1010.0  1013.0     1013.0      990.0  \n",
       "2012-10-01 15:00:00             1012.0  1010.0  1013.0     1013.0      990.0  \n",
       "2012-10-01 16:00:00             1012.0  1010.0  1013.0     1013.0      990.0  \n",
       "2012-10-01 17:00:00             1012.0  1010.0  1013.0     1013.0      990.0  \n",
       "\n",
       "[5 rows x 36 columns]"
      ]
     },
     "execution_count": 52,
     "metadata": {},
     "output_type": "execute_result"
    }
   ],
   "source": [
    "pressure = pressure.fillna(method='bfill')\n",
    "pressure.head()"
   ]
  },
  {
   "cell_type": "code",
   "execution_count": 53,
   "metadata": {},
   "outputs": [
    {
     "data": {
      "text/plain": [
       "Vancouver            0\n",
       "Portland             0\n",
       "San Francisco        0\n",
       "Seattle              0\n",
       "Los Angeles          0\n",
       "San Diego            0\n",
       "Las Vegas            0\n",
       "Phoenix              0\n",
       "Albuquerque          0\n",
       "Denver               0\n",
       "San Antonio          0\n",
       "Dallas               0\n",
       "Houston              0\n",
       "Kansas City          0\n",
       "Minneapolis          0\n",
       "Saint Louis          0\n",
       "Chicago              0\n",
       "Nashville            0\n",
       "Indianapolis         0\n",
       "Atlanta              0\n",
       "Detroit              0\n",
       "Jacksonville         0\n",
       "Charlotte            0\n",
       "Miami                0\n",
       "Pittsburgh           0\n",
       "Toronto              0\n",
       "Philadelphia         0\n",
       "New York             0\n",
       "Montreal             0\n",
       "Boston               0\n",
       "Beersheba            0\n",
       "Tel Aviv District    0\n",
       "Eilat                0\n",
       "Haifa                0\n",
       "Nahariyya            0\n",
       "Jerusalem            0\n",
       "dtype: int64"
      ]
     },
     "execution_count": 53,
     "metadata": {},
     "output_type": "execute_result"
    }
   ],
   "source": [
    "pressure.isnull().sum()"
   ]
  },
  {
   "cell_type": "markdown",
   "metadata": {},
   "source": [
    "首先，我们使用ffill参数，该参数传播最后的有效观察值以填补空白。 \n",
    "\n",
    "然后，我们使用bfill传播下一个有效观察值以填补之前的空白。"
   ]
  },
  {
   "cell_type": "code",
   "execution_count": 54,
   "metadata": {},
   "outputs": [
    {
     "data": {
      "text/plain": [
       "(45252, 36)"
      ]
     },
     "execution_count": 54,
     "metadata": {},
     "output_type": "execute_result"
    }
   ],
   "source": [
    "pressure.shape"
   ]
  },
  {
   "cell_type": "code",
   "execution_count": 55,
   "metadata": {},
   "outputs": [
    {
     "data": {
      "text/html": [
       "<div>\n",
       "<style scoped>\n",
       "    .dataframe tbody tr th:only-of-type {\n",
       "        vertical-align: middle;\n",
       "    }\n",
       "\n",
       "    .dataframe tbody tr th {\n",
       "        vertical-align: top;\n",
       "    }\n",
       "\n",
       "    .dataframe thead th {\n",
       "        text-align: right;\n",
       "    }\n",
       "</style>\n",
       "<table border=\"1\" class=\"dataframe\">\n",
       "  <thead>\n",
       "    <tr style=\"text-align: right;\">\n",
       "      <th></th>\n",
       "      <th>Vancouver</th>\n",
       "      <th>Portland</th>\n",
       "      <th>San Francisco</th>\n",
       "      <th>Seattle</th>\n",
       "      <th>Los Angeles</th>\n",
       "      <th>San Diego</th>\n",
       "      <th>Las Vegas</th>\n",
       "      <th>Phoenix</th>\n",
       "      <th>Albuquerque</th>\n",
       "      <th>Denver</th>\n",
       "      <th>...</th>\n",
       "      <th>Philadelphia</th>\n",
       "      <th>New York</th>\n",
       "      <th>Montreal</th>\n",
       "      <th>Boston</th>\n",
       "      <th>Beersheba</th>\n",
       "      <th>Tel Aviv District</th>\n",
       "      <th>Eilat</th>\n",
       "      <th>Haifa</th>\n",
       "      <th>Nahariyya</th>\n",
       "      <th>Jerusalem</th>\n",
       "    </tr>\n",
       "    <tr>\n",
       "      <th>datetime</th>\n",
       "      <th></th>\n",
       "      <th></th>\n",
       "      <th></th>\n",
       "      <th></th>\n",
       "      <th></th>\n",
       "      <th></th>\n",
       "      <th></th>\n",
       "      <th></th>\n",
       "      <th></th>\n",
       "      <th></th>\n",
       "      <th></th>\n",
       "      <th></th>\n",
       "      <th></th>\n",
       "      <th></th>\n",
       "      <th></th>\n",
       "      <th></th>\n",
       "      <th></th>\n",
       "      <th></th>\n",
       "      <th></th>\n",
       "      <th></th>\n",
       "      <th></th>\n",
       "    </tr>\n",
       "  </thead>\n",
       "  <tbody>\n",
       "    <tr>\n",
       "      <th>2012-10-01</th>\n",
       "      <td>931.627119</td>\n",
       "      <td>1022.644068</td>\n",
       "      <td>1010.881356</td>\n",
       "      <td>1031.271186</td>\n",
       "      <td>1011.627119</td>\n",
       "      <td>1011.966102</td>\n",
       "      <td>1016.322034</td>\n",
       "      <td>1012.084746</td>\n",
       "      <td>1022.542373</td>\n",
       "      <td>1024.118644</td>\n",
       "      <td>...</td>\n",
       "      <td>1014.152542</td>\n",
       "      <td>1013.423729</td>\n",
       "      <td>937.627119</td>\n",
       "      <td>1013.677966</td>\n",
       "      <td>985.050847</td>\n",
       "      <td>1012.949153</td>\n",
       "      <td>1011.796610</td>\n",
       "      <td>1013.000000</td>\n",
       "      <td>1013.000000</td>\n",
       "      <td>990.525424</td>\n",
       "    </tr>\n",
       "    <tr>\n",
       "      <th>2012-10-04</th>\n",
       "      <td>1019.083333</td>\n",
       "      <td>1023.041667</td>\n",
       "      <td>1014.694444</td>\n",
       "      <td>1028.305556</td>\n",
       "      <td>1015.555556</td>\n",
       "      <td>1016.277778</td>\n",
       "      <td>1013.194444</td>\n",
       "      <td>1014.097222</td>\n",
       "      <td>1019.972222</td>\n",
       "      <td>1020.666667</td>\n",
       "      <td>...</td>\n",
       "      <td>1018.097222</td>\n",
       "      <td>1017.680556</td>\n",
       "      <td>1017.180556</td>\n",
       "      <td>1019.805556</td>\n",
       "      <td>984.930556</td>\n",
       "      <td>1013.083333</td>\n",
       "      <td>1012.611111</td>\n",
       "      <td>1013.000000</td>\n",
       "      <td>1013.000000</td>\n",
       "      <td>990.083333</td>\n",
       "    </tr>\n",
       "    <tr>\n",
       "      <th>2012-10-07</th>\n",
       "      <td>1013.930556</td>\n",
       "      <td>1017.444444</td>\n",
       "      <td>1016.597222</td>\n",
       "      <td>1018.736111</td>\n",
       "      <td>1013.416667</td>\n",
       "      <td>1014.222222</td>\n",
       "      <td>1012.888889</td>\n",
       "      <td>1011.861111</td>\n",
       "      <td>1005.833333</td>\n",
       "      <td>1020.458333</td>\n",
       "      <td>...</td>\n",
       "      <td>1017.958333</td>\n",
       "      <td>1016.750000</td>\n",
       "      <td>1014.152778</td>\n",
       "      <td>1016.305556</td>\n",
       "      <td>982.972222</td>\n",
       "      <td>1013.027778</td>\n",
       "      <td>1007.555556</td>\n",
       "      <td>1013.000000</td>\n",
       "      <td>1013.000000</td>\n",
       "      <td>989.833333</td>\n",
       "    </tr>\n",
       "    <tr>\n",
       "      <th>2012-10-10</th>\n",
       "      <td>1015.000000</td>\n",
       "      <td>1015.430556</td>\n",
       "      <td>1014.833333</td>\n",
       "      <td>1018.416667</td>\n",
       "      <td>1010.694444</td>\n",
       "      <td>1014.013889</td>\n",
       "      <td>1000.166667</td>\n",
       "      <td>1005.611111</td>\n",
       "      <td>986.000000</td>\n",
       "      <td>984.486111</td>\n",
       "      <td>...</td>\n",
       "      <td>1018.694444</td>\n",
       "      <td>1017.916667</td>\n",
       "      <td>1016.166667</td>\n",
       "      <td>1017.319444</td>\n",
       "      <td>979.763889</td>\n",
       "      <td>1006.527778</td>\n",
       "      <td>998.763889</td>\n",
       "      <td>1012.333333</td>\n",
       "      <td>1012.333333</td>\n",
       "      <td>987.888889</td>\n",
       "    </tr>\n",
       "    <tr>\n",
       "      <th>2012-10-13</th>\n",
       "      <td>1008.152778</td>\n",
       "      <td>1018.111111</td>\n",
       "      <td>1021.069444</td>\n",
       "      <td>1015.930556</td>\n",
       "      <td>1017.277778</td>\n",
       "      <td>1018.375000</td>\n",
       "      <td>1015.666667</td>\n",
       "      <td>1015.500000</td>\n",
       "      <td>1013.625000</td>\n",
       "      <td>1010.444444</td>\n",
       "      <td>...</td>\n",
       "      <td>1025.055556</td>\n",
       "      <td>1024.388889</td>\n",
       "      <td>1020.805556</td>\n",
       "      <td>1023.736111</td>\n",
       "      <td>984.527778</td>\n",
       "      <td>1013.027778</td>\n",
       "      <td>1007.194444</td>\n",
       "      <td>1013.000000</td>\n",
       "      <td>1013.000000</td>\n",
       "      <td>990.430556</td>\n",
       "    </tr>\n",
       "  </tbody>\n",
       "</table>\n",
       "<p>5 rows × 36 columns</p>\n",
       "</div>"
      ],
      "text/plain": [
       "              Vancouver     Portland  San Francisco      Seattle  Los Angeles  \\\n",
       "datetime                                                                        \n",
       "2012-10-01   931.627119  1022.644068    1010.881356  1031.271186  1011.627119   \n",
       "2012-10-04  1019.083333  1023.041667    1014.694444  1028.305556  1015.555556   \n",
       "2012-10-07  1013.930556  1017.444444    1016.597222  1018.736111  1013.416667   \n",
       "2012-10-10  1015.000000  1015.430556    1014.833333  1018.416667  1010.694444   \n",
       "2012-10-13  1008.152778  1018.111111    1021.069444  1015.930556  1017.277778   \n",
       "\n",
       "              San Diego    Las Vegas      Phoenix  Albuquerque       Denver  \\\n",
       "datetime                                                                      \n",
       "2012-10-01  1011.966102  1016.322034  1012.084746  1022.542373  1024.118644   \n",
       "2012-10-04  1016.277778  1013.194444  1014.097222  1019.972222  1020.666667   \n",
       "2012-10-07  1014.222222  1012.888889  1011.861111  1005.833333  1020.458333   \n",
       "2012-10-10  1014.013889  1000.166667  1005.611111   986.000000   984.486111   \n",
       "2012-10-13  1018.375000  1015.666667  1015.500000  1013.625000  1010.444444   \n",
       "\n",
       "            ...  Philadelphia     New York     Montreal       Boston  \\\n",
       "datetime    ...                                                        \n",
       "2012-10-01  ...   1014.152542  1013.423729   937.627119  1013.677966   \n",
       "2012-10-04  ...   1018.097222  1017.680556  1017.180556  1019.805556   \n",
       "2012-10-07  ...   1017.958333  1016.750000  1014.152778  1016.305556   \n",
       "2012-10-10  ...   1018.694444  1017.916667  1016.166667  1017.319444   \n",
       "2012-10-13  ...   1025.055556  1024.388889  1020.805556  1023.736111   \n",
       "\n",
       "             Beersheba  Tel Aviv District        Eilat        Haifa  \\\n",
       "datetime                                                              \n",
       "2012-10-01  985.050847        1012.949153  1011.796610  1013.000000   \n",
       "2012-10-04  984.930556        1013.083333  1012.611111  1013.000000   \n",
       "2012-10-07  982.972222        1013.027778  1007.555556  1013.000000   \n",
       "2012-10-10  979.763889        1006.527778   998.763889  1012.333333   \n",
       "2012-10-13  984.527778        1013.027778  1007.194444  1013.000000   \n",
       "\n",
       "              Nahariyya   Jerusalem  \n",
       "datetime                             \n",
       "2012-10-01  1013.000000  990.525424  \n",
       "2012-10-04  1013.000000  990.083333  \n",
       "2012-10-07  1013.000000  989.833333  \n",
       "2012-10-10  1012.333333  987.888889  \n",
       "2012-10-13  1013.000000  990.430556  \n",
       "\n",
       "[5 rows x 36 columns]"
      ]
     },
     "execution_count": 55,
     "metadata": {},
     "output_type": "execute_result"
    }
   ],
   "source": [
    "# 我们使用平均值将采样频率从每小时降低到3天\n",
    "pressure = pressure.resample('3D').mean()\n",
    "pressure.head()"
   ]
  },
  {
   "cell_type": "code",
   "execution_count": 56,
   "metadata": {},
   "outputs": [
    {
     "data": {
      "text/plain": [
       "(629, 36)"
      ]
     },
     "execution_count": 56,
     "metadata": {},
     "output_type": "execute_result"
    }
   ],
   "source": [
    "pressure.shape"
   ]
  },
  {
   "cell_type": "markdown",
   "metadata": {},
   "source": [
    "可以看到剩下的行要少得多。 现在，我们将从3天的频率上采样到每天的频率。"
   ]
  },
  {
   "cell_type": "code",
   "execution_count": 57,
   "metadata": {},
   "outputs": [
    {
     "data": {
      "text/html": [
       "<div>\n",
       "<style scoped>\n",
       "    .dataframe tbody tr th:only-of-type {\n",
       "        vertical-align: middle;\n",
       "    }\n",
       "\n",
       "    .dataframe tbody tr th {\n",
       "        vertical-align: top;\n",
       "    }\n",
       "\n",
       "    .dataframe thead th {\n",
       "        text-align: right;\n",
       "    }\n",
       "</style>\n",
       "<table border=\"1\" class=\"dataframe\">\n",
       "  <thead>\n",
       "    <tr style=\"text-align: right;\">\n",
       "      <th></th>\n",
       "      <th>Vancouver</th>\n",
       "      <th>Portland</th>\n",
       "      <th>San Francisco</th>\n",
       "      <th>Seattle</th>\n",
       "      <th>Los Angeles</th>\n",
       "      <th>San Diego</th>\n",
       "      <th>Las Vegas</th>\n",
       "      <th>Phoenix</th>\n",
       "      <th>Albuquerque</th>\n",
       "      <th>Denver</th>\n",
       "      <th>...</th>\n",
       "      <th>Philadelphia</th>\n",
       "      <th>New York</th>\n",
       "      <th>Montreal</th>\n",
       "      <th>Boston</th>\n",
       "      <th>Beersheba</th>\n",
       "      <th>Tel Aviv District</th>\n",
       "      <th>Eilat</th>\n",
       "      <th>Haifa</th>\n",
       "      <th>Nahariyya</th>\n",
       "      <th>Jerusalem</th>\n",
       "    </tr>\n",
       "    <tr>\n",
       "      <th>datetime</th>\n",
       "      <th></th>\n",
       "      <th></th>\n",
       "      <th></th>\n",
       "      <th></th>\n",
       "      <th></th>\n",
       "      <th></th>\n",
       "      <th></th>\n",
       "      <th></th>\n",
       "      <th></th>\n",
       "      <th></th>\n",
       "      <th></th>\n",
       "      <th></th>\n",
       "      <th></th>\n",
       "      <th></th>\n",
       "      <th></th>\n",
       "      <th></th>\n",
       "      <th></th>\n",
       "      <th></th>\n",
       "      <th></th>\n",
       "      <th></th>\n",
       "      <th></th>\n",
       "    </tr>\n",
       "  </thead>\n",
       "  <tbody>\n",
       "    <tr>\n",
       "      <th>2012-10-01</th>\n",
       "      <td>931.627119</td>\n",
       "      <td>1022.644068</td>\n",
       "      <td>1010.881356</td>\n",
       "      <td>1031.271186</td>\n",
       "      <td>1011.627119</td>\n",
       "      <td>1011.966102</td>\n",
       "      <td>1016.322034</td>\n",
       "      <td>1012.084746</td>\n",
       "      <td>1022.542373</td>\n",
       "      <td>1024.118644</td>\n",
       "      <td>...</td>\n",
       "      <td>1014.152542</td>\n",
       "      <td>1013.423729</td>\n",
       "      <td>937.627119</td>\n",
       "      <td>1013.677966</td>\n",
       "      <td>985.050847</td>\n",
       "      <td>1012.949153</td>\n",
       "      <td>1011.796610</td>\n",
       "      <td>1013.0</td>\n",
       "      <td>1013.0</td>\n",
       "      <td>990.525424</td>\n",
       "    </tr>\n",
       "    <tr>\n",
       "      <th>2012-10-02</th>\n",
       "      <td>931.627119</td>\n",
       "      <td>1022.644068</td>\n",
       "      <td>1010.881356</td>\n",
       "      <td>1031.271186</td>\n",
       "      <td>1011.627119</td>\n",
       "      <td>1011.966102</td>\n",
       "      <td>1016.322034</td>\n",
       "      <td>1012.084746</td>\n",
       "      <td>1022.542373</td>\n",
       "      <td>1024.118644</td>\n",
       "      <td>...</td>\n",
       "      <td>1014.152542</td>\n",
       "      <td>1013.423729</td>\n",
       "      <td>937.627119</td>\n",
       "      <td>1013.677966</td>\n",
       "      <td>985.050847</td>\n",
       "      <td>1012.949153</td>\n",
       "      <td>1011.796610</td>\n",
       "      <td>1013.0</td>\n",
       "      <td>1013.0</td>\n",
       "      <td>990.525424</td>\n",
       "    </tr>\n",
       "    <tr>\n",
       "      <th>2012-10-03</th>\n",
       "      <td>931.627119</td>\n",
       "      <td>1022.644068</td>\n",
       "      <td>1010.881356</td>\n",
       "      <td>1031.271186</td>\n",
       "      <td>1011.627119</td>\n",
       "      <td>1011.966102</td>\n",
       "      <td>1016.322034</td>\n",
       "      <td>1012.084746</td>\n",
       "      <td>1022.542373</td>\n",
       "      <td>1024.118644</td>\n",
       "      <td>...</td>\n",
       "      <td>1014.152542</td>\n",
       "      <td>1013.423729</td>\n",
       "      <td>937.627119</td>\n",
       "      <td>1013.677966</td>\n",
       "      <td>985.050847</td>\n",
       "      <td>1012.949153</td>\n",
       "      <td>1011.796610</td>\n",
       "      <td>1013.0</td>\n",
       "      <td>1013.0</td>\n",
       "      <td>990.525424</td>\n",
       "    </tr>\n",
       "    <tr>\n",
       "      <th>2012-10-04</th>\n",
       "      <td>1019.083333</td>\n",
       "      <td>1023.041667</td>\n",
       "      <td>1014.694444</td>\n",
       "      <td>1028.305556</td>\n",
       "      <td>1015.555556</td>\n",
       "      <td>1016.277778</td>\n",
       "      <td>1013.194444</td>\n",
       "      <td>1014.097222</td>\n",
       "      <td>1019.972222</td>\n",
       "      <td>1020.666667</td>\n",
       "      <td>...</td>\n",
       "      <td>1018.097222</td>\n",
       "      <td>1017.680556</td>\n",
       "      <td>1017.180556</td>\n",
       "      <td>1019.805556</td>\n",
       "      <td>984.930556</td>\n",
       "      <td>1013.083333</td>\n",
       "      <td>1012.611111</td>\n",
       "      <td>1013.0</td>\n",
       "      <td>1013.0</td>\n",
       "      <td>990.083333</td>\n",
       "    </tr>\n",
       "    <tr>\n",
       "      <th>2012-10-05</th>\n",
       "      <td>1019.083333</td>\n",
       "      <td>1023.041667</td>\n",
       "      <td>1014.694444</td>\n",
       "      <td>1028.305556</td>\n",
       "      <td>1015.555556</td>\n",
       "      <td>1016.277778</td>\n",
       "      <td>1013.194444</td>\n",
       "      <td>1014.097222</td>\n",
       "      <td>1019.972222</td>\n",
       "      <td>1020.666667</td>\n",
       "      <td>...</td>\n",
       "      <td>1018.097222</td>\n",
       "      <td>1017.680556</td>\n",
       "      <td>1017.180556</td>\n",
       "      <td>1019.805556</td>\n",
       "      <td>984.930556</td>\n",
       "      <td>1013.083333</td>\n",
       "      <td>1012.611111</td>\n",
       "      <td>1013.0</td>\n",
       "      <td>1013.0</td>\n",
       "      <td>990.083333</td>\n",
       "    </tr>\n",
       "  </tbody>\n",
       "</table>\n",
       "<p>5 rows × 36 columns</p>\n",
       "</div>"
      ],
      "text/plain": [
       "              Vancouver     Portland  San Francisco      Seattle  Los Angeles  \\\n",
       "datetime                                                                        \n",
       "2012-10-01   931.627119  1022.644068    1010.881356  1031.271186  1011.627119   \n",
       "2012-10-02   931.627119  1022.644068    1010.881356  1031.271186  1011.627119   \n",
       "2012-10-03   931.627119  1022.644068    1010.881356  1031.271186  1011.627119   \n",
       "2012-10-04  1019.083333  1023.041667    1014.694444  1028.305556  1015.555556   \n",
       "2012-10-05  1019.083333  1023.041667    1014.694444  1028.305556  1015.555556   \n",
       "\n",
       "              San Diego    Las Vegas      Phoenix  Albuquerque       Denver  \\\n",
       "datetime                                                                      \n",
       "2012-10-01  1011.966102  1016.322034  1012.084746  1022.542373  1024.118644   \n",
       "2012-10-02  1011.966102  1016.322034  1012.084746  1022.542373  1024.118644   \n",
       "2012-10-03  1011.966102  1016.322034  1012.084746  1022.542373  1024.118644   \n",
       "2012-10-04  1016.277778  1013.194444  1014.097222  1019.972222  1020.666667   \n",
       "2012-10-05  1016.277778  1013.194444  1014.097222  1019.972222  1020.666667   \n",
       "\n",
       "            ...  Philadelphia     New York     Montreal       Boston  \\\n",
       "datetime    ...                                                        \n",
       "2012-10-01  ...   1014.152542  1013.423729   937.627119  1013.677966   \n",
       "2012-10-02  ...   1014.152542  1013.423729   937.627119  1013.677966   \n",
       "2012-10-03  ...   1014.152542  1013.423729   937.627119  1013.677966   \n",
       "2012-10-04  ...   1018.097222  1017.680556  1017.180556  1019.805556   \n",
       "2012-10-05  ...   1018.097222  1017.680556  1017.180556  1019.805556   \n",
       "\n",
       "             Beersheba  Tel Aviv District        Eilat   Haifa  Nahariyya  \\\n",
       "datetime                                                                    \n",
       "2012-10-01  985.050847        1012.949153  1011.796610  1013.0     1013.0   \n",
       "2012-10-02  985.050847        1012.949153  1011.796610  1013.0     1013.0   \n",
       "2012-10-03  985.050847        1012.949153  1011.796610  1013.0     1013.0   \n",
       "2012-10-04  984.930556        1013.083333  1012.611111  1013.0     1013.0   \n",
       "2012-10-05  984.930556        1013.083333  1012.611111  1013.0     1013.0   \n",
       "\n",
       "             Jerusalem  \n",
       "datetime                \n",
       "2012-10-01  990.525424  \n",
       "2012-10-02  990.525424  \n",
       "2012-10-03  990.525424  \n",
       "2012-10-04  990.083333  \n",
       "2012-10-05  990.083333  \n",
       "\n",
       "[5 rows x 36 columns]"
      ]
     },
     "execution_count": 57,
     "metadata": {},
     "output_type": "execute_result"
    }
   ],
   "source": [
    "pressure = pressure.resample('D').pad()\n",
    "pressure.head()"
   ]
  },
  {
   "cell_type": "code",
   "execution_count": 58,
   "metadata": {},
   "outputs": [
    {
     "data": {
      "text/plain": [
       "(1885, 36)"
      ]
     },
     "execution_count": 58,
     "metadata": {},
     "output_type": "execute_result"
    }
   ],
   "source": [
    "pressure.shape"
   ]
  },
  {
   "cell_type": "markdown",
   "metadata": {},
   "source": [
    "行数再次增加。 如果使用正确，重新采样很酷。"
   ]
  },
  {
   "cell_type": "markdown",
   "metadata": {},
   "source": [
    "# [金融与统计数据](#content)\n",
    "## [百分比变化](#content)"
   ]
  },
  {
   "cell_type": "code",
   "execution_count": 59,
   "metadata": {},
   "outputs": [
    {
     "data": {
      "text/plain": [
       "<matplotlib.axes._subplots.AxesSubplot at 0x7f042be3f590>"
      ]
     },
     "execution_count": 59,
     "metadata": {},
     "output_type": "execute_result"
    },
    {
     "data": {
      "image/png": "[encoded data removed]",
      "text/plain": [
       "<Figure size 1440x576 with 1 Axes>"
      ]
     },
     "metadata": {
      "needs_background": "light"
     },
     "output_type": "display_data"
    }
   ],
   "source": [
    "google['Change'] = google.High.div(google.High.shift())\n",
    "google['Change'].plot(figsize=(20,8))"
   ]
  },
  {
   "cell_type": "markdown",
   "metadata": {},
   "source": [
    "## [Srocks returns](#content)"
   ]
  },
  {
   "cell_type": "code",
   "execution_count": 63,
   "metadata": {},
   "outputs": [
    {
     "data": {
      "text/plain": [
       "<matplotlib.axes._subplots.AxesSubplot at 0x7f042bd88f10>"
      ]
     },
     "execution_count": 63,
     "metadata": {},
     "output_type": "execute_result"
    },
    {
     "data": {
      "image/png": "[encoded data removed]",
      "text/plain": [
       "<Figure size 1440x576 with 1 Axes>"
      ]
     },
     "metadata": {
      "needs_background": "light"
     },
     "output_type": "display_data"
    }
   ],
   "source": [
    "google['Return'] = google.Change.sub(1).mul(100)\n",
    "google['Return'].plot(figsize=(20,8))"
   ]
  },
  {
   "cell_type": "code",
   "execution_count": 64,
   "metadata": {},
   "outputs": [
    {
     "data": {
      "text/plain": [
       "<matplotlib.axes._subplots.AxesSubplot at 0x7f0428034dd0>"
      ]
     },
     "execution_count": 64,
     "metadata": {},
     "output_type": "execute_result"
    },
    {
     "data": {
      "image/png": "[encoded data removed]",
      "text/plain": [
       "<Figure size 1440x432 with 1 Axes>"
      ]
     },
     "metadata": {
      "needs_background": "light"
     },
     "output_type": "display_data"
    }
   ],
   "source": [
    "google.High.pct_change().mul(100).plot(figsize=(20,6))"
   ]
  },
  {
   "cell_type": "markdown",
   "metadata": {},
   "source": [
    "## [连续行中的绝对变化](#content)"
   ]
  },
  {
   "cell_type": "code",
   "execution_count": 66,
   "metadata": {},
   "outputs": [
    {
     "data": {
      "text/plain": [
       "<matplotlib.axes._subplots.AxesSubplot at 0x7f04280d9b90>"
      ]
     },
     "execution_count": 66,
     "metadata": {},
     "output_type": "execute_result"
    },
    {
     "data": {
      "image/png": "[encoded data removed]",
      "text/plain": [
       "<Figure size 1440x432 with 1 Axes>"
      ]
     },
     "metadata": {
      "needs_background": "light"
     },
     "output_type": "display_data"
    }
   ],
   "source": [
    "google.High.diff().plot(figsize=(20,6))"
   ]
  },
  {
   "cell_type": "markdown",
   "metadata": {},
   "source": [
    "## [比较两个或更多个时间序列](#content)\n",
    "我们将通过归一化比较两个时间序列。 这是通过将所有时间序列的每个时间序列元素除以第一个元素来实现的。 这样，两个系列都从同一点开始，可以轻松进行比较。"
   ]
  },
  {
   "cell_type": "code",
   "execution_count": 69,
   "metadata": {},
   "outputs": [
    {
     "data": {
      "text/plain": [
       "(3019, 6)"
      ]
     },
     "execution_count": 69,
     "metadata": {},
     "output_type": "execute_result"
    }
   ],
   "source": [
    "microsoft = pd.read_csv('./data/MSFT_2006-01-01_to_2018-01-01.csv', index_col = 'Date', parse_dates=['Date'])\n",
    "microsoft.shape"
   ]
  },
  {
   "cell_type": "code",
   "execution_count": 70,
   "metadata": {},
   "outputs": [
    {
     "data": {
      "image/png": "[encoded data removed]",
      "text/plain": [
       "<Figure size 432x288 with 1 Axes>"
      ]
     },
     "metadata": {
      "needs_background": "light"
     },
     "output_type": "display_data"
    }
   ],
   "source": [
    "# 归一化之前先现实一下数据\n",
    "google.High.plot()\n",
    "microsoft.High.plot()\n",
    "plt.legend(['Google','Microsoft'])\n",
    "plt.show()"
   ]
  },
  {
   "cell_type": "code",
   "execution_count": null,
   "metadata": {},
   "outputs": [],
   "source": []
  }
 ],
 "metadata": {
  "kernelspec": {
   "display_name": "Python 3",
   "language": "python",
   "name": "python3"
  },
  "language_info": {
   "codemirror_mode": {
    "name": "ipython",
    "version": 3
   },
   "file_extension": ".py",
   "mimetype": "text/x-python",
   "name": "python",
   "nbconvert_exporter": "python",
   "pygments_lexer": "ipython3",
   "version": "3.7.6"
  }
 },
 "nbformat": 4,
 "nbformat_minor": 4
}
